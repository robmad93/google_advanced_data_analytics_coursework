{
 "cells": [
  {
   "cell_type": "markdown",
   "metadata": {
    "id": "9HYKQFUbTX8V"
   },
   "source": [
    "# Activity: Explore sampling"
   ]
  },
  {
   "cell_type": "markdown",
   "metadata": {
    "id": "ee31943b-274e-4c28-bce6-155cb6f4c334"
   },
   "source": [
    "## Introduction\n",
    "In this activity, you will engage in effective sampling of a dataset in order to make it easier to analyze. As a data professional you will often work with extremely large datasets, and utilizing proper sampling techniques helps you improve your efficiency in this work. \n",
    "\n",
    "For this activity, you are a member of an analytics team for the Environmental Protection Agency. You are assigned to analyze data on air quality with respect to carbon monoxide—a major air pollutant—and report your findings. The data utilized in this activity includes information from over 200 sites, identified by their state name, county name, city name, and local site name. You will use effective sampling within this dataset. "
   ]
  },
  {
   "cell_type": "markdown",
   "metadata": {
    "id": "4bb9630e-b940-4835-a389-d39def1fa848"
   },
   "source": [
    "## Step 1: Imports"
   ]
  },
  {
   "cell_type": "markdown",
   "metadata": {
    "id": "bc180686-4ae2-47ea-a292-3588ac60a820"
   },
   "source": [
    "### Import packages\n",
    "\n",
    "Import `pandas`,  `numpy`, `matplotlib`, `statsmodels`, and `scipy`. "
   ]
  },
  {
   "cell_type": "code",
   "execution_count": 1,
   "metadata": {
    "id": "8e7f1f2c-bbcc-4f3c-b927-b090ee8334c4"
   },
   "outputs": [],
   "source": [
    "# Import libraries and packages\n",
    "import numpy as np\n",
    "import pandas as pd\n",
    "import matplotlib.pyplot as plt\n",
    "import statsmodels.api as sm\n",
    "from scipy import stats"
   ]
  },
  {
   "cell_type": "markdown",
   "metadata": {
    "id": "7d29c6bd-f194-46bb-b794-56dc20130473"
   },
   "source": [
    "### Load the dataset\n",
    "\n",
    "As shown in this cell, the dataset has been automatically loaded in for you. You do not need to download the .csv file, or provide more code, in order to access the dataset and proceed with this lab. Please continue with this activity by completing the following instructions."
   ]
  },
  {
   "cell_type": "code",
   "execution_count": 2,
   "metadata": {
    "id": "3bd40d44-080f-4e49-b0c2-160dedc3c4df"
   },
   "outputs": [],
   "source": [
    "# RUN THIS CELL TO IMPORT YOUR DATA.\n",
    "\n",
    "### YOUR CODE HERE ###\n",
    "epa_data = pd.read_csv(\"c4_epa_air_quality.csv\", index_col = 0)"
   ]
  },
  {
   "cell_type": "markdown",
   "metadata": {
    "id": "49881dfd-4532-424f-9729-f5378d984df0",
    "jp-MarkdownHeadingCollapsed": true,
    "tags": []
   },
   "source": [
    "<details>\n",
    "  <summary><h4>Hint 1</h4></summary>\n",
    "\n",
    "Use the function in the `pandas` library that allows you to read in data from a csv file and load it into a DataFrame. \n",
    "\n",
    "</details>"
   ]
  },
  {
   "cell_type": "markdown",
   "metadata": {
    "id": "ptkclWFzHjHv",
    "jp-MarkdownHeadingCollapsed": true,
    "tags": []
   },
   "source": [
    "<details>\n",
    "  <summary><h4>Hint 2</h4></summary>\n",
    "\n",
    "Use the `read_csv` function from the pandas `library`. Set the `index_col` parameter to `0` to read in the first column as an index (and to avoid `\"Unnamed: 0\"` appearing as a column in the resulting Dataframe).\n",
    "\n",
    "</details>"
   ]
  },
  {
   "cell_type": "markdown",
   "metadata": {
    "id": "95bf39c9-d05c-4324-a40b-bc692607b61b"
   },
   "source": [
    "## Step 2: Data exploration"
   ]
  },
  {
   "cell_type": "markdown",
   "metadata": {
    "id": "26561614-8e9b-4840-8dbf-b50131ae5314",
    "tags": []
   },
   "source": [
    "### Examine the data\n",
    "\n",
    "To understand how the dataset is structured, examine the first 10 rows of the data."
   ]
  },
  {
   "cell_type": "code",
   "execution_count": 3,
   "metadata": {
    "id": "ad5210a5-7a64-4991-b004-de818cfaf506"
   },
   "outputs": [
    {
     "data": {
      "text/html": [
       "<div>\n",
       "<style scoped>\n",
       "    .dataframe tbody tr th:only-of-type {\n",
       "        vertical-align: middle;\n",
       "    }\n",
       "\n",
       "    .dataframe tbody tr th {\n",
       "        vertical-align: top;\n",
       "    }\n",
       "\n",
       "    .dataframe thead th {\n",
       "        text-align: right;\n",
       "    }\n",
       "</style>\n",
       "<table border=\"1\" class=\"dataframe\">\n",
       "  <thead>\n",
       "    <tr style=\"text-align: right;\">\n",
       "      <th></th>\n",
       "      <th>date_local</th>\n",
       "      <th>state_name</th>\n",
       "      <th>county_name</th>\n",
       "      <th>city_name</th>\n",
       "      <th>local_site_name</th>\n",
       "      <th>parameter_name</th>\n",
       "      <th>units_of_measure</th>\n",
       "      <th>arithmetic_mean</th>\n",
       "      <th>aqi</th>\n",
       "    </tr>\n",
       "  </thead>\n",
       "  <tbody>\n",
       "    <tr>\n",
       "      <th>0</th>\n",
       "      <td>2018-01-01</td>\n",
       "      <td>Arizona</td>\n",
       "      <td>Maricopa</td>\n",
       "      <td>Buckeye</td>\n",
       "      <td>BUCKEYE</td>\n",
       "      <td>Carbon monoxide</td>\n",
       "      <td>Parts per million</td>\n",
       "      <td>0.473684</td>\n",
       "      <td>7</td>\n",
       "    </tr>\n",
       "    <tr>\n",
       "      <th>1</th>\n",
       "      <td>2018-01-01</td>\n",
       "      <td>Ohio</td>\n",
       "      <td>Belmont</td>\n",
       "      <td>Shadyside</td>\n",
       "      <td>Shadyside</td>\n",
       "      <td>Carbon monoxide</td>\n",
       "      <td>Parts per million</td>\n",
       "      <td>0.263158</td>\n",
       "      <td>5</td>\n",
       "    </tr>\n",
       "    <tr>\n",
       "      <th>2</th>\n",
       "      <td>2018-01-01</td>\n",
       "      <td>Wyoming</td>\n",
       "      <td>Teton</td>\n",
       "      <td>Not in a city</td>\n",
       "      <td>Yellowstone National Park - Old Faithful Snow ...</td>\n",
       "      <td>Carbon monoxide</td>\n",
       "      <td>Parts per million</td>\n",
       "      <td>0.111111</td>\n",
       "      <td>2</td>\n",
       "    </tr>\n",
       "    <tr>\n",
       "      <th>3</th>\n",
       "      <td>2018-01-01</td>\n",
       "      <td>Pennsylvania</td>\n",
       "      <td>Philadelphia</td>\n",
       "      <td>Philadelphia</td>\n",
       "      <td>North East Waste (NEW)</td>\n",
       "      <td>Carbon monoxide</td>\n",
       "      <td>Parts per million</td>\n",
       "      <td>0.300000</td>\n",
       "      <td>3</td>\n",
       "    </tr>\n",
       "    <tr>\n",
       "      <th>4</th>\n",
       "      <td>2018-01-01</td>\n",
       "      <td>Iowa</td>\n",
       "      <td>Polk</td>\n",
       "      <td>Des Moines</td>\n",
       "      <td>CARPENTER</td>\n",
       "      <td>Carbon monoxide</td>\n",
       "      <td>Parts per million</td>\n",
       "      <td>0.215789</td>\n",
       "      <td>3</td>\n",
       "    </tr>\n",
       "    <tr>\n",
       "      <th>5</th>\n",
       "      <td>2018-01-01</td>\n",
       "      <td>Hawaii</td>\n",
       "      <td>Honolulu</td>\n",
       "      <td>Not in a city</td>\n",
       "      <td>Kapolei</td>\n",
       "      <td>Carbon monoxide</td>\n",
       "      <td>Parts per million</td>\n",
       "      <td>0.994737</td>\n",
       "      <td>14</td>\n",
       "    </tr>\n",
       "    <tr>\n",
       "      <th>6</th>\n",
       "      <td>2018-01-01</td>\n",
       "      <td>Hawaii</td>\n",
       "      <td>Honolulu</td>\n",
       "      <td>Not in a city</td>\n",
       "      <td>Kapolei</td>\n",
       "      <td>Carbon monoxide</td>\n",
       "      <td>Parts per million</td>\n",
       "      <td>0.200000</td>\n",
       "      <td>2</td>\n",
       "    </tr>\n",
       "    <tr>\n",
       "      <th>7</th>\n",
       "      <td>2018-01-01</td>\n",
       "      <td>Pennsylvania</td>\n",
       "      <td>Erie</td>\n",
       "      <td>Erie</td>\n",
       "      <td>NaN</td>\n",
       "      <td>Carbon monoxide</td>\n",
       "      <td>Parts per million</td>\n",
       "      <td>0.200000</td>\n",
       "      <td>2</td>\n",
       "    </tr>\n",
       "    <tr>\n",
       "      <th>8</th>\n",
       "      <td>2018-01-01</td>\n",
       "      <td>Hawaii</td>\n",
       "      <td>Honolulu</td>\n",
       "      <td>Honolulu</td>\n",
       "      <td>Honolulu</td>\n",
       "      <td>Carbon monoxide</td>\n",
       "      <td>Parts per million</td>\n",
       "      <td>0.400000</td>\n",
       "      <td>5</td>\n",
       "    </tr>\n",
       "    <tr>\n",
       "      <th>9</th>\n",
       "      <td>2018-01-01</td>\n",
       "      <td>Colorado</td>\n",
       "      <td>Larimer</td>\n",
       "      <td>Fort Collins</td>\n",
       "      <td>Fort Collins - CSU - S. Mason</td>\n",
       "      <td>Carbon monoxide</td>\n",
       "      <td>Parts per million</td>\n",
       "      <td>0.300000</td>\n",
       "      <td>6</td>\n",
       "    </tr>\n",
       "  </tbody>\n",
       "</table>\n",
       "</div>"
      ],
      "text/plain": [
       "   date_local    state_name   county_name      city_name  \\\n",
       "0  2018-01-01       Arizona      Maricopa        Buckeye   \n",
       "1  2018-01-01          Ohio       Belmont      Shadyside   \n",
       "2  2018-01-01       Wyoming         Teton  Not in a city   \n",
       "3  2018-01-01  Pennsylvania  Philadelphia   Philadelphia   \n",
       "4  2018-01-01          Iowa          Polk     Des Moines   \n",
       "5  2018-01-01        Hawaii      Honolulu  Not in a city   \n",
       "6  2018-01-01        Hawaii      Honolulu  Not in a city   \n",
       "7  2018-01-01  Pennsylvania          Erie           Erie   \n",
       "8  2018-01-01        Hawaii      Honolulu       Honolulu   \n",
       "9  2018-01-01      Colorado       Larimer   Fort Collins   \n",
       "\n",
       "                                     local_site_name   parameter_name  \\\n",
       "0                                            BUCKEYE  Carbon monoxide   \n",
       "1                                          Shadyside  Carbon monoxide   \n",
       "2  Yellowstone National Park - Old Faithful Snow ...  Carbon monoxide   \n",
       "3                             North East Waste (NEW)  Carbon monoxide   \n",
       "4                                          CARPENTER  Carbon monoxide   \n",
       "5                                            Kapolei  Carbon monoxide   \n",
       "6                                            Kapolei  Carbon monoxide   \n",
       "7                                                NaN  Carbon monoxide   \n",
       "8                                           Honolulu  Carbon monoxide   \n",
       "9                      Fort Collins - CSU - S. Mason  Carbon monoxide   \n",
       "\n",
       "    units_of_measure  arithmetic_mean  aqi  \n",
       "0  Parts per million         0.473684    7  \n",
       "1  Parts per million         0.263158    5  \n",
       "2  Parts per million         0.111111    2  \n",
       "3  Parts per million         0.300000    3  \n",
       "4  Parts per million         0.215789    3  \n",
       "5  Parts per million         0.994737   14  \n",
       "6  Parts per million         0.200000    2  \n",
       "7  Parts per million         0.200000    2  \n",
       "8  Parts per million         0.400000    5  \n",
       "9  Parts per million         0.300000    6  "
      ]
     },
     "execution_count": 3,
     "metadata": {},
     "output_type": "execute_result"
    }
   ],
   "source": [
    "# First 10 rows of the data\n",
    "epa_data.head(10)"
   ]
  },
  {
   "cell_type": "markdown",
   "metadata": {
    "id": "9WUbcPx6IA-k",
    "jp-MarkdownHeadingCollapsed": true,
    "tags": []
   },
   "source": [
    "<details>\n",
    "  <summary><h4><strong> Hint 1 </STRONG></h4></summary>\n",
    "\n",
    "Use the function in the `pandas` library that allows you to get a specific number of rows from the top of a DataFrame. \n",
    "\n",
    "</details>"
   ]
  },
  {
   "cell_type": "markdown",
   "metadata": {
    "id": "rUiFGOUDIA-m",
    "jp-MarkdownHeadingCollapsed": true,
    "tags": []
   },
   "source": [
    "<details>\n",
    "  <summary><h4><strong> Hint 2 </STRONG></h4></summary>\n",
    "\n",
    "Use the `head` function from the `pandas` library. Set the `n` parameter to `10` to print out the first 10 rows.\n",
    "\n",
    "</details>"
   ]
  },
  {
   "cell_type": "markdown",
   "metadata": {
    "id": "fb45ed17-5e22-4d48-9750-130a8586bbf9",
    "tags": []
   },
   "source": [
    "**Question:** What does the `aqi` column represent?"
   ]
  },
  {
   "cell_type": "markdown",
   "metadata": {
    "id": "nZHP_ZUSXDKh"
   },
   "source": [
    "It represents the Air Quality Index."
   ]
  },
  {
   "cell_type": "markdown",
   "metadata": {
    "id": "7dac147e-19e1-49e7-bd80-e122390c3a70",
    "tags": []
   },
   "source": [
    "### Generate a table of descriptive statistics\n",
    "\n",
    "Generate a table of some descriptive statistics about the data. Specify that all columns of the input be included in the output."
   ]
  },
  {
   "cell_type": "code",
   "execution_count": 5,
   "metadata": {
    "id": "13f1c1dd-5637-4726-8fa0-2fbd838e4afa"
   },
   "outputs": [
    {
     "data": {
      "text/html": [
       "<div>\n",
       "<style scoped>\n",
       "    .dataframe tbody tr th:only-of-type {\n",
       "        vertical-align: middle;\n",
       "    }\n",
       "\n",
       "    .dataframe tbody tr th {\n",
       "        vertical-align: top;\n",
       "    }\n",
       "\n",
       "    .dataframe thead th {\n",
       "        text-align: right;\n",
       "    }\n",
       "</style>\n",
       "<table border=\"1\" class=\"dataframe\">\n",
       "  <thead>\n",
       "    <tr style=\"text-align: right;\">\n",
       "      <th></th>\n",
       "      <th>arithmetic_mean</th>\n",
       "      <th>aqi</th>\n",
       "    </tr>\n",
       "  </thead>\n",
       "  <tbody>\n",
       "    <tr>\n",
       "      <th>count</th>\n",
       "      <td>260.000000</td>\n",
       "      <td>260.000000</td>\n",
       "    </tr>\n",
       "    <tr>\n",
       "      <th>mean</th>\n",
       "      <td>0.403169</td>\n",
       "      <td>6.757692</td>\n",
       "    </tr>\n",
       "    <tr>\n",
       "      <th>std</th>\n",
       "      <td>0.317902</td>\n",
       "      <td>7.061707</td>\n",
       "    </tr>\n",
       "    <tr>\n",
       "      <th>min</th>\n",
       "      <td>0.000000</td>\n",
       "      <td>0.000000</td>\n",
       "    </tr>\n",
       "    <tr>\n",
       "      <th>25%</th>\n",
       "      <td>0.200000</td>\n",
       "      <td>2.000000</td>\n",
       "    </tr>\n",
       "    <tr>\n",
       "      <th>50%</th>\n",
       "      <td>0.276315</td>\n",
       "      <td>5.000000</td>\n",
       "    </tr>\n",
       "    <tr>\n",
       "      <th>75%</th>\n",
       "      <td>0.516009</td>\n",
       "      <td>9.000000</td>\n",
       "    </tr>\n",
       "    <tr>\n",
       "      <th>max</th>\n",
       "      <td>1.921053</td>\n",
       "      <td>50.000000</td>\n",
       "    </tr>\n",
       "  </tbody>\n",
       "</table>\n",
       "</div>"
      ],
      "text/plain": [
       "       arithmetic_mean         aqi\n",
       "count       260.000000  260.000000\n",
       "mean          0.403169    6.757692\n",
       "std           0.317902    7.061707\n",
       "min           0.000000    0.000000\n",
       "25%           0.200000    2.000000\n",
       "50%           0.276315    5.000000\n",
       "75%           0.516009    9.000000\n",
       "max           1.921053   50.000000"
      ]
     },
     "execution_count": 5,
     "metadata": {},
     "output_type": "execute_result"
    }
   ],
   "source": [
    "epa_data.describe()"
   ]
  },
  {
   "cell_type": "markdown",
   "metadata": {
    "id": "c25c3da0-e242-4f46-9620-6d7f04911aea",
    "jp-MarkdownHeadingCollapsed": true,
    "tags": []
   },
   "source": [
    "<details>\n",
    "  <summary><h4>Hint 1</h4></summary>\n",
    "\n",
    "Use function in the `pandas` library that allows you to generate a table of basic descriptive statistics in a DataFrame.\n",
    "\n",
    "</details>"
   ]
  },
  {
   "cell_type": "markdown",
   "metadata": {
    "id": "TVhhKA-6I-Ko",
    "jp-MarkdownHeadingCollapsed": true,
    "tags": []
   },
   "source": [
    "<details>\n",
    "  <summary><h4>Hint 2</h4></summary>\n",
    "\n",
    "Use the `describe` function from the `pandas` library. Set the `include` parameter passed in to this function to 'all' to specify that all columns of the input be included in the output.\n",
    "\n",
    "</details>"
   ]
  },
  {
   "cell_type": "markdown",
   "metadata": {
    "id": "584fa1b2"
   },
   "source": [
    "**Question:** Based on the preceding table of descriptive statistics, what is the mean value of the `aqi` column? "
   ]
  },
  {
   "cell_type": "markdown",
   "metadata": {
    "id": "DoQA-TKWXIJ-"
   },
   "source": [
    "It is ~6.76"
   ]
  },
  {
   "cell_type": "markdown",
   "metadata": {
    "id": "a70475eb-d3a6-42e4-8b71-a49b5a1aa0db"
   },
   "source": [
    "**Question:** Based on the preceding table of descriptive statistics, what do you notice about the count value for the `aqi` column?"
   ]
  },
  {
   "cell_type": "markdown",
   "metadata": {
    "id": "KIIg5Bd4XJ3M"
   },
   "source": [
    "It is 260, meaning there are 260 measurements for AQI in the dataset."
   ]
  },
  {
   "cell_type": "markdown",
   "metadata": {
    "id": "5464fa18-f969-4e1e-8539-9b2d9a11766d",
    "tags": []
   },
   "source": [
    "### Use the `mean()` function on the `aqi`  column\n",
    "\n",
    "Now, use the `mean()` function on the `aqi`  column and assign the value to a variable `population_mean`. The value should be the same as the one generated by the `describe()` method in the above table. "
   ]
  },
  {
   "cell_type": "code",
   "execution_count": 7,
   "metadata": {
    "id": "678346a1-bc1a-40be-850a-c03488970604"
   },
   "outputs": [
    {
     "name": "stdout",
     "output_type": "stream",
     "text": [
      "6.757692307692308\n"
     ]
    }
   ],
   "source": [
    "population_mean = epa_data[\"aqi\"].mean()\n",
    "print(population_mean)"
   ]
  },
  {
   "cell_type": "markdown",
   "metadata": {
    "id": "NrCBFqf6KneL",
    "jp-MarkdownHeadingCollapsed": true,
    "tags": []
   },
   "source": [
    "<details>\n",
    "  <summary><h4><strong> Hint 1 </STRONG></h4></summary>\n",
    "\n",
    "Use the function in the `pandas` library that allows you to generate a mean value for a column in a DataFrame.\n",
    "\n",
    "</details>"
   ]
  },
  {
   "cell_type": "markdown",
   "metadata": {
    "id": "ELA3AlzhKneN",
    "jp-MarkdownHeadingCollapsed": true,
    "tags": []
   },
   "source": [
    "<details>\n",
    "  <summary><h4><strong> Hint 2 </STRONG></h4></summary>\n",
    "\n",
    "Use the `mean()` method.\n",
    "\n",
    "</details>"
   ]
  },
  {
   "cell_type": "markdown",
   "metadata": {
    "id": "990595d9"
   },
   "source": [
    "## Step 3: Statistical tests"
   ]
  },
  {
   "cell_type": "markdown",
   "metadata": {
    "id": "tejiqD0O7e3p"
   },
   "source": [
    "### Sample with replacement\n",
    "\n",
    "First, name a new variable `sampled_data`. Then, use the `sample()` dataframe method to draw 50 samples from `epa_data`. Set `replace` equal to `'True'` to specify sampling with replacement. For `random_state`, choose an arbitrary number for random seed. Make that arbitrary number `42`."
   ]
  },
  {
   "cell_type": "code",
   "execution_count": 8,
   "metadata": {
    "id": "e4bceb0a"
   },
   "outputs": [],
   "source": [
    "sampled_data = epa_data.sample(n=50, replace=True, random_state = 42)"
   ]
  },
  {
   "cell_type": "markdown",
   "metadata": {
    "id": "dcca386d"
   },
   "source": [
    "### Output the first 10 rows\n",
    "\n",
    "Output the first 10 rows of the DataFrame. "
   ]
  },
  {
   "cell_type": "code",
   "execution_count": 9,
   "metadata": {
    "id": "63d5d4d5"
   },
   "outputs": [
    {
     "data": {
      "text/html": [
       "<div>\n",
       "<style scoped>\n",
       "    .dataframe tbody tr th:only-of-type {\n",
       "        vertical-align: middle;\n",
       "    }\n",
       "\n",
       "    .dataframe tbody tr th {\n",
       "        vertical-align: top;\n",
       "    }\n",
       "\n",
       "    .dataframe thead th {\n",
       "        text-align: right;\n",
       "    }\n",
       "</style>\n",
       "<table border=\"1\" class=\"dataframe\">\n",
       "  <thead>\n",
       "    <tr style=\"text-align: right;\">\n",
       "      <th></th>\n",
       "      <th>date_local</th>\n",
       "      <th>state_name</th>\n",
       "      <th>county_name</th>\n",
       "      <th>city_name</th>\n",
       "      <th>local_site_name</th>\n",
       "      <th>parameter_name</th>\n",
       "      <th>units_of_measure</th>\n",
       "      <th>arithmetic_mean</th>\n",
       "      <th>aqi</th>\n",
       "    </tr>\n",
       "  </thead>\n",
       "  <tbody>\n",
       "    <tr>\n",
       "      <th>102</th>\n",
       "      <td>2018-01-01</td>\n",
       "      <td>Texas</td>\n",
       "      <td>Harris</td>\n",
       "      <td>Houston</td>\n",
       "      <td>Clinton</td>\n",
       "      <td>Carbon monoxide</td>\n",
       "      <td>Parts per million</td>\n",
       "      <td>0.157895</td>\n",
       "      <td>2</td>\n",
       "    </tr>\n",
       "    <tr>\n",
       "      <th>106</th>\n",
       "      <td>2018-01-01</td>\n",
       "      <td>California</td>\n",
       "      <td>Imperial</td>\n",
       "      <td>Calexico</td>\n",
       "      <td>Calexico-Ethel Street</td>\n",
       "      <td>Carbon monoxide</td>\n",
       "      <td>Parts per million</td>\n",
       "      <td>1.183333</td>\n",
       "      <td>26</td>\n",
       "    </tr>\n",
       "    <tr>\n",
       "      <th>71</th>\n",
       "      <td>2018-01-01</td>\n",
       "      <td>Alabama</td>\n",
       "      <td>Jefferson</td>\n",
       "      <td>Birmingham</td>\n",
       "      <td>Arkadelphia/Near Road</td>\n",
       "      <td>Carbon monoxide</td>\n",
       "      <td>Parts per million</td>\n",
       "      <td>0.200000</td>\n",
       "      <td>2</td>\n",
       "    </tr>\n",
       "    <tr>\n",
       "      <th>188</th>\n",
       "      <td>2018-01-01</td>\n",
       "      <td>Arizona</td>\n",
       "      <td>Maricopa</td>\n",
       "      <td>Tempe</td>\n",
       "      <td>Diablo</td>\n",
       "      <td>Carbon monoxide</td>\n",
       "      <td>Parts per million</td>\n",
       "      <td>0.542105</td>\n",
       "      <td>10</td>\n",
       "    </tr>\n",
       "    <tr>\n",
       "      <th>20</th>\n",
       "      <td>2018-01-01</td>\n",
       "      <td>Virginia</td>\n",
       "      <td>Roanoke</td>\n",
       "      <td>Vinton</td>\n",
       "      <td>East Vinton Elementary School</td>\n",
       "      <td>Carbon monoxide</td>\n",
       "      <td>Parts per million</td>\n",
       "      <td>0.100000</td>\n",
       "      <td>1</td>\n",
       "    </tr>\n",
       "    <tr>\n",
       "      <th>102</th>\n",
       "      <td>2018-01-01</td>\n",
       "      <td>Texas</td>\n",
       "      <td>Harris</td>\n",
       "      <td>Houston</td>\n",
       "      <td>Clinton</td>\n",
       "      <td>Carbon monoxide</td>\n",
       "      <td>Parts per million</td>\n",
       "      <td>0.157895</td>\n",
       "      <td>2</td>\n",
       "    </tr>\n",
       "    <tr>\n",
       "      <th>121</th>\n",
       "      <td>2018-01-01</td>\n",
       "      <td>North Carolina</td>\n",
       "      <td>Mecklenburg</td>\n",
       "      <td>Charlotte</td>\n",
       "      <td>Garinger High School</td>\n",
       "      <td>Carbon monoxide</td>\n",
       "      <td>Parts per million</td>\n",
       "      <td>0.200000</td>\n",
       "      <td>2</td>\n",
       "    </tr>\n",
       "    <tr>\n",
       "      <th>214</th>\n",
       "      <td>2018-01-01</td>\n",
       "      <td>Florida</td>\n",
       "      <td>Broward</td>\n",
       "      <td>Davie</td>\n",
       "      <td>Daniela Banu NCORE</td>\n",
       "      <td>Carbon monoxide</td>\n",
       "      <td>Parts per million</td>\n",
       "      <td>0.273684</td>\n",
       "      <td>5</td>\n",
       "    </tr>\n",
       "    <tr>\n",
       "      <th>87</th>\n",
       "      <td>2018-01-01</td>\n",
       "      <td>California</td>\n",
       "      <td>Humboldt</td>\n",
       "      <td>Eureka</td>\n",
       "      <td>Jacobs</td>\n",
       "      <td>Carbon monoxide</td>\n",
       "      <td>Parts per million</td>\n",
       "      <td>0.393750</td>\n",
       "      <td>5</td>\n",
       "    </tr>\n",
       "    <tr>\n",
       "      <th>99</th>\n",
       "      <td>2018-01-01</td>\n",
       "      <td>California</td>\n",
       "      <td>Santa Barbara</td>\n",
       "      <td>Goleta</td>\n",
       "      <td>Goleta</td>\n",
       "      <td>Carbon monoxide</td>\n",
       "      <td>Parts per million</td>\n",
       "      <td>0.222222</td>\n",
       "      <td>3</td>\n",
       "    </tr>\n",
       "  </tbody>\n",
       "</table>\n",
       "</div>"
      ],
      "text/plain": [
       "     date_local      state_name    county_name   city_name  \\\n",
       "102  2018-01-01           Texas         Harris     Houston   \n",
       "106  2018-01-01      California       Imperial    Calexico   \n",
       "71   2018-01-01         Alabama      Jefferson  Birmingham   \n",
       "188  2018-01-01         Arizona       Maricopa       Tempe   \n",
       "20   2018-01-01        Virginia        Roanoke      Vinton   \n",
       "102  2018-01-01           Texas         Harris     Houston   \n",
       "121  2018-01-01  North Carolina    Mecklenburg   Charlotte   \n",
       "214  2018-01-01         Florida        Broward       Davie   \n",
       "87   2018-01-01      California       Humboldt      Eureka   \n",
       "99   2018-01-01      California  Santa Barbara      Goleta   \n",
       "\n",
       "                   local_site_name   parameter_name   units_of_measure  \\\n",
       "102                        Clinton  Carbon monoxide  Parts per million   \n",
       "106          Calexico-Ethel Street  Carbon monoxide  Parts per million   \n",
       "71           Arkadelphia/Near Road  Carbon monoxide  Parts per million   \n",
       "188                         Diablo  Carbon monoxide  Parts per million   \n",
       "20   East Vinton Elementary School  Carbon monoxide  Parts per million   \n",
       "102                        Clinton  Carbon monoxide  Parts per million   \n",
       "121           Garinger High School  Carbon monoxide  Parts per million   \n",
       "214             Daniela Banu NCORE  Carbon monoxide  Parts per million   \n",
       "87                          Jacobs  Carbon monoxide  Parts per million   \n",
       "99                          Goleta  Carbon monoxide  Parts per million   \n",
       "\n",
       "     arithmetic_mean  aqi  \n",
       "102         0.157895    2  \n",
       "106         1.183333   26  \n",
       "71          0.200000    2  \n",
       "188         0.542105   10  \n",
       "20          0.100000    1  \n",
       "102         0.157895    2  \n",
       "121         0.200000    2  \n",
       "214         0.273684    5  \n",
       "87          0.393750    5  \n",
       "99          0.222222    3  "
      ]
     },
     "execution_count": 9,
     "metadata": {},
     "output_type": "execute_result"
    }
   ],
   "source": [
    "sampled_data.head(10)"
   ]
  },
  {
   "cell_type": "markdown",
   "metadata": {
    "id": "b206a973"
   },
   "source": [
    "<details>\n",
    "  <summary><h4><strong> Hint 1 </STRONG></h4></summary>\n",
    "\n",
    "Use the function in the `pandas` library that allows you to get a specific number of rows from the top of a DataFrame. \n",
    "\n",
    "</details>"
   ]
  },
  {
   "cell_type": "markdown",
   "metadata": {
    "id": "4d4a340d"
   },
   "source": [
    "<details>\n",
    "  <summary><h4><strong> Hint 2 </STRONG></h4></summary>\n",
    "\n",
    "Use the `head` function from the `pandas` library. Set the `n` parameter to `10` to print out the first 10 rows.\n",
    "\n",
    "</details>"
   ]
  },
  {
   "cell_type": "markdown",
   "metadata": {
    "id": "ea32e0f9"
   },
   "source": [
    "**Question:** In the DataFrame output, why is the row index 102 repeated twice? "
   ]
  },
  {
   "cell_type": "markdown",
   "metadata": {
    "id": "PFcAQ7kQXQGa"
   },
   "source": [
    "This is because sampling with replacement was selected inside the sample() function i.e., replace was set to True."
   ]
  },
  {
   "cell_type": "markdown",
   "metadata": {
    "id": "39c3bf7d"
   },
   "source": [
    "**Question:** What does `random_state` do?"
   ]
  },
  {
   "cell_type": "markdown",
   "metadata": {
    "id": "6gVu0BaTXSlI"
   },
   "source": [
    "It sets a seed so that the exact same sample will be reproduced every time it is invoked."
   ]
  },
  {
   "cell_type": "markdown",
   "metadata": {
    "id": "eed77707"
   },
   "source": [
    "### Compute the mean value from the `aqi` column\n",
    "\n",
    "Compute the mean value from the `aqi` column in `sampled_data` and assign the value to the variable `sample_mean`."
   ]
  },
  {
   "cell_type": "code",
   "execution_count": 11,
   "metadata": {
    "id": "eccca24f"
   },
   "outputs": [
    {
     "name": "stdout",
     "output_type": "stream",
     "text": [
      "5.54\n"
     ]
    }
   ],
   "source": [
    "sample_mean = sampled_data[\"aqi\"].mean()\n",
    "print(sample_mean)"
   ]
  },
  {
   "cell_type": "markdown",
   "metadata": {
    "id": "dffa05d1"
   },
   "source": [
    " **Question:**  Why is `sample_mean` different from `population_mean`?\n"
   ]
  },
  {
   "cell_type": "markdown",
   "metadata": {
    "id": "IWOwRNYsXVDL"
   },
   "source": [
    "Due to sampling variability, the sample mean is often not equal to the population mean. It merely serves as a point estimate of 50 AQI values as opposted to the 260 AQI values of the original dataset."
   ]
  },
  {
   "cell_type": "markdown",
   "metadata": {
    "id": "83526f10"
   },
   "source": [
    "### Apply the central limit theorem\n",
    "\n",
    "Imagine repeating the the earlier sample with replacement 10,000 times and obtaining 10,000 point estimates of the mean. In other words, imagine taking 10,000 random samples of 50 AQI values and computing the mean for each sample. According to the **central limit theorem**, the mean of a sampling distribution should be roughly equal to the population mean. Complete the following steps to compute the mean of the sampling distribution with 10,000 samples. \n",
    "\n",
    "* Create an empty list and assign it to a variable called `estimate_list`. \n",
    "* Iterate through a `for` loop 10,000 times. To do this, make sure to utilize the `range()` function to generate a sequence of numbers from 0 to 9,999. \n",
    "* In each iteration of the loop, use the `sample()` function to take a random sample (with replacement) of 50 AQI values from the population. Do not set `random_state` to a value.\n",
    "* Use the list `append()` function to add the value of the sample `mean` to each item in the list.\n"
   ]
  },
  {
   "cell_type": "code",
   "execution_count": 14,
   "metadata": {
    "id": "192b9d77"
   },
   "outputs": [
    {
     "name": "stdout",
     "output_type": "stream",
     "text": [
      "[6.72, 5.7, 7.4, 6.88, 4.98, 6.32, 6.42, 8.16, 5.98, 5.26, 6.48, 9.54, 7.7, 6.36, 6.92, 6.46, 5.82, 6.26, 6.76, 5.0, 5.62, 7.04, 8.94, 8.22, 6.88, 5.32, 7.22, 6.04, 5.64, 6.5, 6.72, 6.8, 6.34, 5.76, 6.84, 6.22, 5.54, 5.34, 6.98, 5.8, 9.56, 7.6, 7.9, 6.14, 7.04, 5.7, 7.62, 6.94, 5.8, 7.34, 6.38, 6.14, 6.16, 5.12, 7.28, 4.5, 5.22, 7.08, 6.84, 6.88, 6.62, 5.78, 6.44, 6.84, 5.88, 7.58, 6.82, 7.56, 7.22, 6.5, 5.74, 6.22, 6.12, 7.34, 7.48, 9.34, 6.66, 6.56, 7.24, 6.64, 5.14, 7.24, 8.3, 6.94, 6.3, 6.46, 7.48, 7.58, 6.7, 5.38, 6.96, 6.48, 6.86, 7.64, 6.58, 7.6, 5.7, 6.84, 7.12, 6.4, 5.18, 6.96, 5.94, 7.9, 6.74, 7.8, 4.42, 6.56, 6.84, 6.62, 7.78, 7.02, 6.32, 7.18, 6.34, 6.84, 5.38, 7.18, 5.54, 8.84, 5.8, 6.2, 6.48, 5.16, 7.56, 7.9, 5.54, 6.38, 7.2, 7.4, 6.5, 6.34, 5.84, 7.02, 6.28, 8.26, 7.2, 8.26, 6.62, 5.94, 6.92, 7.26, 8.14, 6.26, 5.66, 5.48, 5.88, 6.48, 8.54, 5.32, 6.64, 7.44, 7.34, 7.24, 6.56, 7.3, 7.9, 8.68, 8.28, 8.58, 6.16, 6.26, 6.74, 8.16, 5.9, 8.34, 6.78, 5.88, 7.54, 8.28, 5.84, 7.12, 9.06, 5.8, 6.9, 7.62, 9.28, 6.42, 5.14, 7.08, 5.54, 6.22, 8.98, 6.64, 5.3, 6.44, 5.08, 7.38, 7.14, 7.5, 5.94, 7.8, 6.28, 6.38, 6.98, 8.2, 7.08, 5.64, 6.76, 5.58, 6.28, 5.58, 7.0, 6.36, 5.1, 7.72, 6.3, 9.08, 5.26, 7.6, 6.16, 6.7, 6.02, 5.64, 7.0, 7.18, 5.88, 5.82, 6.68, 6.3, 7.04, 7.56, 5.92, 6.38, 7.08, 5.16, 7.0, 5.88, 5.74, 7.22, 5.84, 7.66, 7.14, 6.3, 6.02, 7.74, 7.4, 6.98, 5.82, 7.52, 8.28, 6.9, 7.82, 5.74, 5.9, 7.24, 6.28, 6.38, 6.52, 6.86, 4.74, 8.36, 7.62, 8.2, 6.72, 6.32, 5.88, 8.58, 5.02, 7.76, 8.76, 6.42, 6.36, 6.96, 8.22, 5.96, 7.98, 6.24, 8.18, 5.74, 7.2, 5.52, 7.76, 6.12, 5.76, 5.9, 7.5, 7.24, 5.44, 6.86, 6.84, 7.66, 7.96, 7.02, 6.58, 5.06, 5.52, 6.66, 6.56, 7.86, 6.48, 6.74, 7.24, 7.02, 10.5, 5.6, 7.62, 4.62, 8.06, 6.54, 6.66, 7.38, 6.58, 6.08, 5.66, 5.98, 5.08, 7.5, 6.78, 7.18, 6.26, 5.86, 8.2, 5.68, 5.68, 6.62, 5.44, 6.16, 5.34, 6.84, 7.34, 7.12, 5.46, 6.2, 6.02, 8.0, 7.76, 5.32, 7.32, 6.42, 6.78, 5.92, 6.26, 6.5, 6.44, 6.5, 8.3, 6.34, 7.6, 6.82, 5.8, 6.74, 6.02, 6.74, 6.56, 6.88, 7.18, 6.8, 7.58, 5.38, 7.26, 7.34, 6.2, 7.6, 6.14, 6.08, 7.02, 6.94, 7.3, 5.66, 6.86, 4.88, 4.38, 5.7, 8.76, 6.38, 6.38, 6.18, 6.26, 5.78, 5.04, 6.4, 4.72, 5.68, 5.9, 6.7, 5.64, 6.08, 6.26, 5.62, 8.66, 4.88, 5.24, 6.9, 6.18, 7.12, 5.28, 6.56, 6.48, 8.38, 5.42, 6.82, 6.66, 5.76, 6.06, 8.5, 7.1, 5.68, 6.64, 8.06, 7.12, 6.36, 6.34, 5.98, 7.38, 7.38, 7.04, 8.54, 7.16, 6.98, 5.7, 6.96, 8.2, 8.04, 7.18, 4.8, 6.52, 5.72, 6.5, 6.16, 6.44, 7.92, 7.02, 6.94, 6.7, 4.66, 5.54, 7.44, 7.24, 6.66, 5.94, 7.8, 6.02, 6.84, 6.98, 5.98, 6.82, 6.26, 6.44, 7.08, 7.84, 6.28, 7.46, 6.66, 7.06, 5.78, 6.56, 7.12, 8.5, 7.2, 7.66, 5.32, 5.92, 6.78, 6.84, 5.98, 6.2, 7.92, 5.28, 7.8, 6.1, 5.64, 4.86, 7.12, 6.22, 6.0, 5.12, 6.9, 7.16, 5.6, 6.98, 8.76, 7.5, 6.32, 5.52, 6.82, 6.52, 5.96, 7.12, 7.54, 5.86, 6.58, 7.36, 5.9, 7.08, 7.5, 7.62, 4.88, 7.46, 7.08, 6.4, 8.48, 8.18, 8.66, 6.4, 6.12, 6.08, 6.28, 7.16, 7.32, 6.86, 6.7, 5.62, 6.5, 7.38, 7.74, 5.62, 7.82, 5.76, 6.92, 5.14, 5.88, 7.24, 6.72, 7.64, 6.18, 6.1, 6.9, 7.4, 5.32, 7.32, 6.44, 6.92, 6.34, 8.76, 6.2, 4.58, 6.68, 6.76, 5.78, 5.74, 6.1, 8.66, 5.74, 7.7, 7.16, 6.6, 6.94, 7.7, 5.92, 7.18, 6.76, 7.2, 4.78, 5.96, 6.0, 6.78, 6.86, 6.34, 6.36, 7.74, 7.4, 8.46, 6.54, 5.54, 5.42, 7.3, 7.32, 6.34, 4.28, 7.66, 7.36, 6.72, 6.18, 6.72, 6.3, 7.44, 6.48, 8.3, 7.08, 4.98, 5.82, 6.4, 5.58, 5.74, 7.26, 7.7, 7.02, 8.76, 5.74, 5.68, 6.06, 5.5, 5.48, 6.62, 8.94, 5.56, 6.9, 7.68, 6.66, 5.62, 7.36, 6.42, 6.58, 5.74, 7.14, 6.56, 5.84, 6.78, 6.52, 6.18, 7.84, 7.02, 8.42, 5.3, 5.1, 7.14, 7.34, 5.76, 6.34, 8.22, 5.88, 6.58, 5.42, 5.66, 8.1, 6.54, 6.98, 5.06, 6.8, 6.66, 5.98, 5.38, 5.28, 7.44, 7.12, 7.6, 5.84, 7.18, 7.44, 7.16, 7.16, 7.54, 9.42, 5.52, 7.08, 6.2, 6.78, 5.8, 9.14, 7.04, 6.86, 7.44, 6.18, 7.64, 5.8, 6.64, 5.82, 6.5, 8.38, 9.24, 6.84, 8.86, 7.9, 7.02, 6.44, 6.16, 6.94, 6.92, 5.58, 6.58, 7.12, 7.78, 6.38, 6.42, 6.46, 8.64, 7.22, 5.58, 5.1, 6.36, 5.86, 7.48, 9.22, 6.42, 7.2, 7.54, 5.28, 6.2, 5.54, 6.38, 6.38, 6.3, 6.86, 7.28, 6.3, 6.3, 6.2, 6.22, 7.22, 7.24, 7.0, 7.62, 6.86, 8.38, 8.82, 9.94, 6.6, 6.14, 9.0, 6.5, 7.1, 6.74, 4.92, 6.34, 6.38, 5.14, 6.64, 7.42, 7.78, 6.62, 6.7, 6.38, 7.2, 6.32, 10.24, 7.42, 6.96, 5.32, 5.44, 6.8, 7.26, 6.92, 8.42, 7.34, 5.88, 6.88, 6.82, 7.86, 6.2, 6.62, 7.8, 6.58, 6.5, 9.14, 8.2, 6.04, 7.86, 5.64, 7.06, 5.9, 5.0, 6.68, 6.7, 6.26, 5.58, 7.04, 5.94, 7.36, 7.14, 7.12, 7.14, 5.48, 5.92, 6.12, 6.76, 6.0, 6.48, 6.26, 7.16, 5.64, 6.02, 8.06, 7.96, 6.66, 7.6, 4.74, 4.2, 8.14, 8.34, 6.6, 7.14, 6.52, 6.84, 7.06, 7.24, 7.0, 7.6, 6.6, 7.48, 7.32, 6.52, 7.6, 7.48, 6.66, 4.94, 5.74, 6.56, 6.9, 6.58, 7.1, 7.12, 5.22, 8.0, 6.7, 7.84, 5.18, 7.6, 9.02, 7.82, 6.44, 7.6, 5.64, 6.42, 6.46, 7.16, 8.06, 6.44, 4.92, 6.38, 6.34, 8.04, 7.22, 8.42, 5.8, 5.46, 7.04, 6.12, 6.48, 7.36, 7.0, 7.46, 7.04, 5.36, 6.3, 6.92, 7.62, 7.22, 8.54, 7.12, 7.88, 7.88, 5.16, 5.74, 7.24, 6.84, 6.02, 6.68, 9.34, 7.36, 6.62, 7.32, 5.9, 7.88, 6.24, 6.62, 7.46, 8.48, 8.98, 5.2, 5.94, 5.98, 6.22, 5.32, 7.52, 5.86, 5.86, 8.5, 5.72, 7.56, 8.28, 7.64, 7.28, 8.18, 5.56, 6.78, 5.28, 6.16, 6.26, 6.18, 6.36, 6.1, 5.38, 4.68, 6.84, 6.44, 6.52, 7.62, 5.12, 8.12, 7.28, 6.24, 7.66, 6.5, 8.86, 7.9, 7.76, 5.94, 6.34, 5.94, 5.24, 6.92, 6.3, 7.54, 7.08, 5.6, 6.64, 8.52, 7.54, 7.68, 7.94, 8.42, 6.9, 6.54, 5.94, 4.84, 8.34, 8.42, 7.56, 5.86, 6.12, 6.78, 6.54, 5.06, 6.46, 8.4, 5.86, 8.06, 6.68, 6.72, 6.22, 6.9, 6.36, 7.98, 6.74, 6.68, 6.24, 5.9, 6.32, 6.06, 8.36, 7.46, 8.3, 6.4, 5.02, 6.84, 6.08, 7.74, 8.06, 6.94, 7.12, 5.44, 7.78, 6.78, 5.44, 7.9, 6.32, 8.3, 5.72, 6.44, 7.1, 5.0, 6.3, 5.68, 6.78, 6.68, 5.9, 7.84, 5.52, 8.86, 7.34, 7.02, 8.32, 6.16, 7.56, 7.34, 6.82, 8.06, 6.98, 6.34, 8.72, 5.44, 5.44, 5.9, 6.62, 8.5, 5.32, 6.32, 6.3, 6.14, 6.3, 6.72, 5.56, 5.86, 7.48, 5.52, 6.94, 6.5, 6.32, 5.76, 6.48, 6.12, 6.48, 7.32, 6.5, 7.0, 8.16, 6.52, 6.4, 5.92, 6.74, 7.16, 6.84, 6.48, 6.52, 5.74, 6.08, 5.92, 6.38, 5.6, 7.3, 6.18, 7.3, 7.62, 5.84, 6.3, 5.04, 5.62, 6.38, 5.56, 7.6, 6.38, 8.34, 6.88, 4.6, 5.88, 7.2, 6.82, 6.08, 6.06, 4.92, 6.18, 8.12, 5.5, 7.74, 8.3, 6.08, 6.98, 6.88, 5.76, 6.46, 6.22, 8.22, 5.9, 5.86, 7.28, 6.02, 6.12, 6.88, 7.04, 5.78, 6.64, 5.94, 6.76, 7.82, 6.64, 5.88, 5.74, 8.68, 5.92, 6.56, 6.76, 6.5, 6.1, 8.3, 7.06, 8.3, 5.68, 8.3, 5.58, 5.68, 8.4, 6.38, 7.52, 8.24, 6.82, 6.98, 7.58, 7.3, 6.06, 6.4, 5.96, 6.68, 8.28, 9.1, 7.46, 6.14, 7.86, 7.86, 6.7, 6.66, 6.7, 7.38, 8.14, 6.68, 8.06, 7.9, 6.76, 7.56, 6.4, 6.48, 7.02, 5.72, 5.9, 5.72, 6.64, 6.0, 5.5, 5.7, 7.12, 6.78, 5.04, 7.34, 5.7, 5.68, 9.18, 7.24, 6.36, 6.08, 5.74, 6.1, 7.42, 6.32, 8.0, 4.92, 6.8, 8.02, 6.12, 5.92, 7.48, 6.52, 7.14, 6.3, 6.08, 7.38, 4.6, 7.58, 5.84, 6.42, 7.82, 6.24, 7.14, 8.12, 6.92, 8.78, 6.18, 6.12, 6.82, 6.98, 7.32, 8.42, 6.04, 6.6, 6.84, 5.1, 5.46, 7.4, 7.22, 5.38, 5.64, 7.56, 5.68, 6.78, 7.24, 6.16, 6.56, 6.98, 6.02, 7.7, 7.18, 5.94, 6.5, 6.68, 7.26, 6.66, 6.78, 7.24, 8.0, 7.44, 6.82, 6.44, 5.88, 6.04, 8.14, 7.62, 8.36, 6.74, 6.84, 6.74, 6.62, 6.5, 7.32, 9.14, 7.02, 6.74, 8.28, 5.78, 7.56, 6.06, 8.28, 6.42, 5.8, 6.6, 6.92, 7.7, 7.2, 9.68, 5.74, 6.28, 6.46, 7.22, 6.36, 6.1, 6.74, 7.88, 7.12, 6.24, 6.46, 9.04, 7.06, 6.36, 7.6, 7.08, 7.88, 6.56, 5.82, 5.7, 5.86, 7.96, 6.22, 5.9, 7.12, 8.32, 5.78, 8.36, 7.28, 5.7, 6.04, 6.18, 5.2, 6.48, 6.74, 6.08, 7.42, 5.76, 6.5, 5.18, 5.26, 6.06, 6.88, 6.78, 8.44, 5.28, 7.42, 7.0, 6.4, 6.5, 6.2, 5.66, 7.16, 6.0, 8.24, 7.24, 7.8, 7.58, 6.68, 6.22, 6.1, 6.16, 4.64, 9.72, 7.18, 6.14, 7.08, 7.24, 6.56, 7.74, 8.16, 7.14, 7.64, 6.5, 7.28, 8.1, 5.78, 7.64, 6.52, 6.02, 7.54, 6.94, 6.62, 6.7, 6.24, 7.82, 5.8, 6.4, 5.66, 6.74, 7.56, 5.82, 9.46, 6.66, 6.02, 6.92, 5.16, 6.96, 5.4, 6.58, 7.06, 6.72, 4.82, 8.16, 5.44, 6.78, 7.06, 7.42, 8.1, 6.16, 6.16, 6.18, 7.52, 6.62, 5.36, 5.02, 6.86, 6.94, 9.52, 7.18, 6.18, 6.62, 5.28, 6.64, 7.68, 6.34, 6.28, 6.46, 8.12, 8.6, 6.5, 7.08, 7.04, 6.4, 6.8, 7.82, 7.42, 6.98, 6.94, 8.08, 6.58, 5.92, 6.04, 6.72, 5.42, 6.02, 6.32, 5.68, 5.2, 5.7, 8.54, 6.84, 7.14, 10.0, 7.48, 6.92, 8.22, 6.94, 4.94, 6.54, 7.48, 8.4, 7.16, 7.88, 7.8, 7.64, 7.78, 7.76, 7.34, 6.46, 6.88, 5.62, 5.94, 5.94, 5.68, 6.56, 6.9, 7.66, 5.06, 8.46, 7.4, 7.28, 7.06, 7.66, 6.3, 7.36, 6.66, 6.24, 8.78, 8.24, 6.5, 5.8, 7.46, 6.12, 6.36, 6.38, 5.94, 5.88, 7.02, 6.9, 7.78, 7.1, 7.06, 8.96, 6.48, 6.8, 7.08, 7.52, 7.52, 6.78, 6.06, 6.12, 7.08, 6.96, 5.48, 6.78, 5.68, 5.88, 7.9, 8.3, 8.32, 6.86, 8.54, 7.68, 8.44, 6.5, 7.2, 5.44, 5.98, 7.1, 5.72, 7.52, 7.24, 7.46, 5.98, 6.8, 7.24, 6.5, 6.06, 6.0, 7.06, 5.7, 7.32, 7.68, 7.04, 7.12, 7.62, 7.18, 7.72, 5.78, 8.9, 7.1, 5.3, 9.66, 5.9, 7.4, 7.12, 7.42, 7.76, 7.64, 5.72, 8.22, 6.18, 6.74, 6.28, 6.48, 6.64, 8.94, 6.06, 4.48, 7.4, 6.78, 7.18, 6.86, 7.58, 6.76, 5.94, 5.84, 8.16, 6.58, 5.44, 6.44, 5.96, 6.54, 6.94, 6.06, 6.3, 5.7, 4.92, 7.02, 6.24, 6.0, 7.1, 5.02, 5.52, 7.36, 6.66, 5.46, 7.24, 6.96, 8.46, 6.82, 5.7, 8.22, 6.92, 6.2, 6.98, 6.2, 6.78, 8.42, 8.36, 5.88, 6.22, 6.52, 6.58, 7.44, 8.4, 8.8, 5.8, 6.04, 7.04, 6.0, 6.12, 7.58, 6.18, 7.28, 5.52, 8.16, 7.7, 7.6, 8.24, 5.58, 6.48, 5.74, 6.6, 6.9, 7.32, 6.64, 6.26, 6.98, 6.54, 7.2, 6.64, 7.64, 7.5, 6.9, 6.96, 6.4, 5.4, 5.3, 5.96, 6.88, 5.14, 6.7, 6.74, 4.6, 5.28, 8.3, 7.54, 6.4, 6.66, 8.76, 5.6, 5.7, 5.68, 8.52, 5.82, 6.92, 9.1, 6.44, 5.28, 6.5, 8.3, 7.1, 8.4, 8.06, 8.04, 6.8, 6.22, 5.64, 6.84, 6.46, 5.98, 5.28, 6.14, 5.64, 6.72, 7.64, 8.02, 5.66, 7.26, 6.52, 7.22, 5.86, 6.78, 8.02, 7.14, 7.42, 6.5, 6.64, 7.24, 5.56, 6.28, 6.36, 5.38, 7.76, 7.14, 7.14, 6.26, 7.1, 7.54, 7.86, 5.26, 7.1, 6.52, 6.88, 7.4, 6.04, 6.42, 5.9, 7.44, 7.46, 4.96, 7.42, 6.58, 6.7, 7.2, 6.46, 8.18, 7.62, 5.5, 6.82, 6.72, 7.34, 6.4, 8.4, 6.48, 8.6, 8.22, 8.5, 6.3, 5.86, 5.84, 6.84, 5.74, 6.16, 6.9, 6.22, 7.54, 6.56, 6.7, 9.5, 5.66, 7.46, 6.84, 6.5, 5.46, 4.62, 7.32, 7.42, 4.64, 6.98, 8.76, 6.14, 6.5, 9.2, 6.1, 6.68, 5.0, 5.76, 6.9, 6.42, 5.76, 4.78, 7.42, 7.52, 6.66, 5.88, 7.18, 7.4, 5.7, 6.86, 7.26, 6.84, 6.4, 8.14, 5.48, 7.64, 5.84, 7.9, 6.22, 7.32, 6.8, 4.86, 6.12, 6.74, 7.22, 6.22, 6.58, 8.5, 5.42, 6.06, 6.62, 8.24, 7.72, 7.0, 7.78, 7.38, 4.68, 6.36, 7.08, 5.74, 6.62, 7.46, 6.42, 8.32, 7.84, 6.26, 7.2, 7.3, 5.76, 5.14, 6.56, 10.0, 5.7, 6.5, 5.98, 7.62, 6.32, 6.8, 5.7, 6.06, 6.54, 7.46, 6.64, 6.52, 7.08, 4.66, 5.96, 7.78, 7.48, 7.2, 6.96, 6.26, 7.62, 8.44, 7.38, 5.64, 7.6, 6.58, 6.3, 7.06, 5.72, 7.08, 6.0, 6.4, 5.2, 6.26, 6.1, 7.24, 8.34, 7.24, 5.6, 7.28, 6.52, 6.7, 6.28, 5.78, 6.52, 5.88, 7.4, 6.68, 6.52, 6.12, 6.78, 5.14, 8.38, 5.6, 5.92, 5.72, 6.84, 7.7, 4.74, 5.82, 5.18, 7.5, 5.8, 5.78, 7.58, 5.66, 7.04, 8.3, 6.92, 5.76, 6.26, 7.34, 7.74, 5.66, 6.84, 8.16, 6.58, 6.36, 7.72, 6.12, 7.36, 6.5, 6.34, 7.42, 7.34, 5.58, 6.94, 7.04, 9.1, 6.54, 7.94, 8.46, 6.66, 5.38, 5.76, 7.72, 5.68, 9.76, 4.44, 6.36, 9.26, 8.98, 4.98, 5.94, 5.1, 5.78, 5.16, 8.4, 7.72, 7.84, 7.76, 5.56, 5.78, 5.66, 4.96, 6.06, 6.28, 6.14, 5.0, 5.68, 6.32, 7.58, 6.56, 8.86, 6.56, 7.38, 6.28, 6.88, 6.08, 7.32, 5.86, 7.18, 5.54, 6.38, 6.4, 5.72, 6.78, 5.14, 5.06, 5.72, 7.62, 6.78, 6.3, 6.98, 4.98, 6.4, 6.64, 5.72, 5.28, 8.14, 9.8, 6.3, 6.64, 7.2, 6.16, 7.86, 7.64, 6.6, 8.16, 5.36, 6.36, 5.8, 7.06, 6.16, 6.1, 6.32, 6.32, 6.48, 7.54, 6.2, 6.82, 7.36, 6.12, 6.94, 6.76, 6.34, 7.56, 5.24, 6.68, 6.88, 7.44, 5.9, 7.22, 6.78, 7.52, 7.74, 6.58, 7.82, 7.84, 6.58, 6.12, 6.2, 6.74, 9.68, 8.04, 7.3, 8.84, 7.54, 8.22, 7.1, 6.8, 8.62, 6.94, 7.66, 8.52, 7.44, 5.36, 5.9, 6.92, 6.34, 8.74, 7.12, 4.76, 7.04, 7.36, 6.0, 5.02, 6.56, 6.54, 7.42, 6.52, 5.26, 6.8, 6.06, 6.9, 6.58, 7.5, 7.06, 5.8, 7.22, 5.12, 5.44, 7.58, 5.46, 6.06, 6.86, 6.12, 7.98, 6.5, 6.18, 5.3, 6.98, 4.68, 9.06, 6.06, 6.88, 6.62, 5.18, 6.98, 7.24, 5.64, 6.04, 6.78, 7.96, 7.02, 7.3, 5.24, 7.52, 7.42, 6.22, 7.9, 6.76, 5.78, 7.08, 6.64, 5.78, 8.08, 7.42, 6.98, 6.4, 5.8, 6.7, 6.08, 6.76, 7.8, 7.18, 8.26, 6.62, 6.74, 7.24, 5.04, 5.92, 8.62, 7.84, 7.72, 6.58, 6.14, 5.3, 5.48, 7.1, 7.48, 5.96, 6.82, 7.3, 6.8, 6.9, 4.06, 5.62, 5.1, 6.72, 6.1, 7.64, 7.74, 7.92, 6.56, 6.66, 6.78, 6.16, 5.86, 6.2, 7.04, 7.96, 7.16, 5.88, 5.08, 6.48, 9.76, 7.9, 6.26, 7.92, 5.26, 5.92, 6.28, 6.4, 9.34, 5.44, 8.04, 6.56, 6.5, 6.84, 8.1, 6.08, 6.14, 6.32, 4.84, 6.78, 6.16, 7.34, 6.1, 5.98, 5.14, 6.76, 6.4, 7.38, 5.24, 7.52, 5.36, 6.86, 5.52, 6.76, 7.44, 7.28, 6.74, 7.48, 5.58, 6.96, 7.4, 6.62, 6.74, 6.6, 6.1, 7.28, 5.62, 6.0, 5.88, 6.38, 7.36, 7.32, 7.72, 7.56, 6.68, 5.8, 7.94, 9.7, 5.7, 6.02, 6.8, 6.2, 6.32, 8.02, 6.02, 4.34, 6.64, 6.74, 6.16, 6.88, 7.38, 6.22, 6.62, 7.04, 7.94, 5.4, 6.7, 6.72, 7.44, 8.04, 6.2, 6.46, 6.42, 4.64, 8.52, 8.98, 5.82, 8.08, 8.26, 7.92, 8.14, 8.52, 6.96, 5.96, 7.54, 7.26, 7.64, 6.54, 7.56, 7.84, 5.76, 5.54, 7.5, 5.0, 9.98, 8.46, 8.76, 5.98, 7.24, 6.58, 6.34, 5.22, 6.32, 6.94, 7.34, 7.2, 7.1, 6.62, 6.54, 5.92, 6.22, 7.06, 6.28, 9.22, 7.2, 7.62, 6.04, 4.9, 5.66, 6.56, 6.38, 7.76, 7.42, 8.5, 6.44, 6.8, 5.56, 7.94, 4.48, 8.1, 8.94, 7.06, 5.82, 5.74, 5.98, 6.92, 5.54, 6.1, 6.24, 6.22, 5.78, 6.7, 6.28, 6.1, 8.32, 7.9, 7.24, 6.48, 7.62, 7.76, 6.9, 5.98, 8.6, 6.84, 6.04, 8.6, 6.36, 6.32, 5.24, 6.04, 5.9, 5.7, 6.88, 4.5, 5.96, 5.54, 5.82, 5.96, 6.78, 6.86, 6.44, 5.98, 6.6, 5.28, 5.16, 7.18, 5.54, 7.16, 6.02, 7.72, 6.24, 6.42, 6.52, 6.62, 6.42, 8.18, 4.34, 6.68, 6.12, 9.64, 5.34, 7.38, 6.84, 7.12, 6.3, 7.58, 7.8, 5.6, 6.16, 8.6, 6.64, 8.8, 7.04, 7.12, 6.8, 5.78, 6.44, 4.84, 5.56, 7.36, 6.8, 10.36, 8.46, 5.46, 9.6, 5.44, 8.34, 5.34, 7.64, 7.52, 10.36, 6.86, 8.64, 6.86, 6.26, 6.6, 5.8, 6.8, 5.62, 7.46, 7.26, 6.92, 6.3, 7.56, 5.74, 7.44, 8.8, 6.02, 6.68, 8.44, 6.7, 6.52, 5.88, 7.74, 6.8, 6.94, 5.64, 6.42, 6.28, 6.2, 7.4, 6.18, 6.58, 5.04, 6.4, 6.76, 6.6, 7.26, 7.44, 6.5, 5.72, 6.18, 7.44, 5.24, 6.42, 7.02, 6.38, 6.34, 6.14, 7.56, 5.42, 5.68, 6.28, 6.2, 6.18, 6.02, 6.72, 5.18, 7.38, 7.02, 6.4, 7.34, 6.04, 7.4, 5.7, 6.26, 6.52, 6.88, 5.92, 8.04, 6.34, 6.54, 10.78, 6.4, 6.38, 7.02, 6.82, 7.16, 6.84, 8.88, 6.62, 7.78, 6.0, 6.72, 5.9, 6.82, 7.16, 5.64, 5.86, 6.3, 9.86, 5.42, 6.28, 5.96, 6.88, 5.46, 6.08, 7.94, 6.46, 6.54, 5.08, 6.06, 6.02, 6.44, 7.2, 4.84, 6.68, 7.2, 6.86, 6.72, 7.6, 7.78, 5.14, 6.24, 8.98, 6.48, 5.92, 6.28, 7.02, 6.94, 7.76, 7.12, 6.52, 6.3, 5.74, 8.14, 6.96, 8.08, 6.28, 7.52, 6.98, 5.22, 4.88, 8.02, 8.08, 6.8, 7.14, 8.1, 5.82, 7.72, 6.36, 6.04, 5.88, 6.8, 5.48, 6.84, 7.2, 6.94, 8.36, 6.52, 7.34, 7.18, 5.44, 6.74, 7.84, 6.62, 6.04, 6.58, 8.12, 7.52, 7.7, 6.52, 7.44, 7.68, 7.78, 6.54, 6.6, 6.8, 4.68, 6.74, 6.02, 7.24, 6.42, 6.08, 6.0, 7.46, 6.82, 6.14, 6.0, 6.52, 7.56, 5.98, 7.94, 6.92, 6.48, 6.7, 4.98, 7.34, 6.52, 5.42, 7.56, 6.28, 7.24, 5.14, 6.16, 5.56, 5.7, 4.96, 7.22, 6.24, 8.56, 4.78, 4.98, 7.64, 7.08, 7.24, 6.68, 5.48, 6.02, 9.08, 7.0, 7.92, 5.62, 8.6, 6.54, 5.72, 5.4, 6.64, 7.44, 9.48, 8.2, 7.16, 7.68, 4.66, 6.46, 5.38, 5.32, 5.7, 6.68, 7.04, 6.14, 6.02, 6.92, 5.74, 8.46, 6.64, 7.32, 6.86, 7.24, 8.52, 6.22, 6.34, 5.34, 6.06, 5.3, 5.18, 7.42, 7.6, 7.8, 7.28, 5.8, 6.44, 7.22, 7.04, 6.36, 7.4, 5.7, 7.2, 6.02, 6.34, 6.58, 7.34, 6.92, 6.38, 6.96, 7.36, 6.8, 7.22, 9.24, 5.12, 6.52, 6.34, 8.16, 6.88, 8.02, 8.14, 6.58, 5.96, 6.98, 7.84, 6.82, 8.46, 7.46, 7.34, 6.62, 8.74, 5.92, 6.44, 7.36, 5.88, 5.28, 7.38, 6.2, 6.6, 6.98, 8.28, 7.3, 7.16, 6.6, 7.18, 5.42, 5.04, 8.22, 7.34, 6.06, 7.36, 5.42, 7.44, 8.2, 7.68, 6.32, 6.24, 7.12, 8.3, 7.14, 8.74, 5.66, 7.32, 6.4, 6.44, 6.86, 7.22, 8.02, 6.0, 7.38, 8.14, 5.14, 6.1, 8.4, 7.68, 5.78, 8.34, 6.48, 6.74, 8.2, 5.98, 5.66, 5.16, 5.72, 7.48, 7.12, 7.9, 8.8, 5.34, 6.7, 7.12, 5.94, 5.3, 8.28, 7.16, 8.1, 6.06, 5.72, 6.96, 4.96, 6.9, 5.68, 5.92, 7.28, 8.2, 8.04, 6.82, 7.0, 6.38, 7.5, 6.88, 7.46, 7.2, 6.1, 5.68, 5.98, 7.12, 7.14, 7.1, 6.58, 5.9, 5.62, 6.42, 6.64, 6.36, 7.9, 7.9, 6.5, 5.58, 7.08, 7.78, 8.02, 5.9, 10.92, 8.56, 10.36, 6.38, 7.3, 5.74, 6.74, 5.54, 7.66, 6.12, 5.5, 6.08, 6.18, 6.1, 5.5, 6.22, 8.48, 8.18, 8.14, 6.56, 5.82, 5.74, 6.2, 6.26, 7.62, 7.74, 6.34, 5.7, 6.74, 5.08, 7.7, 6.54, 6.68, 6.36, 6.8, 5.22, 9.18, 7.46, 6.04, 8.12, 6.42, 7.5, 7.9, 9.8, 8.16, 7.26, 6.58, 5.98, 7.48, 5.74, 7.44, 6.9, 6.34, 4.88, 6.08, 5.32, 5.38, 6.22, 5.64, 6.92, 5.48, 8.96, 5.48, 9.06, 7.08, 9.28, 6.3, 8.44, 7.8, 7.06, 5.2, 5.44, 6.46, 6.08, 7.62, 6.2, 7.36, 7.52, 6.38, 7.94, 6.9, 6.84, 7.5, 6.26, 5.54, 6.68, 6.28, 7.22, 8.06, 7.4, 6.28, 6.24, 7.34, 6.68, 7.36, 6.84, 7.92, 7.66, 6.26, 6.88, 8.22, 7.7, 5.42, 8.42, 7.2, 7.96, 6.14, 5.64, 8.24, 6.38, 8.6, 7.02, 6.62, 4.86, 8.26, 5.86, 5.98, 6.04, 8.36, 7.04, 5.42, 7.62, 5.22, 7.16, 7.16, 7.1, 6.44, 6.5, 6.06, 5.5, 5.38, 8.82, 7.16, 7.72, 6.08, 7.74, 10.82, 6.04, 5.02, 5.8, 6.36, 5.76, 7.14, 6.44, 6.96, 5.96, 6.48, 6.66, 7.14, 7.68, 5.22, 7.16, 6.8, 6.82, 5.96, 6.06, 7.4, 7.12, 6.46, 6.68, 7.6, 5.58, 5.14, 5.72, 5.66, 6.16, 8.26, 5.58, 6.06, 7.24, 5.64, 5.92, 7.7, 6.32, 4.62, 8.16, 6.12, 6.8, 6.64, 7.14, 6.68, 6.34, 9.38, 6.22, 7.3, 6.24, 6.56, 4.84, 7.38, 8.34, 6.7, 5.68, 6.12, 7.1, 5.04, 8.54, 5.88, 5.76, 7.82, 7.34, 6.42, 8.0, 7.18, 5.56, 7.62, 7.66, 6.28, 6.4, 7.56, 9.7, 7.24, 6.34, 7.16, 7.12, 6.72, 5.52, 6.7, 7.14, 5.52, 6.5, 4.98, 8.38, 6.4, 5.42, 6.8, 7.3, 7.18, 5.2, 5.78, 7.38, 7.74, 6.5, 7.1, 6.06, 5.62, 8.96, 7.78, 7.18, 7.16, 5.92, 6.94, 5.86, 7.3, 7.12, 4.92, 6.88, 6.66, 4.58, 6.22, 5.9, 4.98, 7.12, 4.94, 7.64, 8.28, 8.5, 6.98, 6.58, 7.36, 7.46, 7.22, 6.2, 4.8, 6.38, 5.26, 6.08, 6.06, 5.84, 6.68, 7.32, 9.26, 7.76, 7.6, 5.9, 6.52, 8.0, 6.76, 7.16, 7.26, 7.72, 7.38, 6.34, 6.6, 6.16, 8.6, 6.02, 5.92, 7.04, 5.92, 7.24, 8.38, 5.94, 6.38, 6.8, 6.06, 5.28, 6.78, 6.8, 6.7, 6.72, 5.02, 6.26, 6.72, 7.38, 6.32, 7.14, 8.62, 7.98, 7.64, 5.42, 7.22, 6.9, 7.28, 6.42, 5.42, 6.54, 5.66, 6.82, 5.78, 6.7, 8.04, 5.82, 6.82, 7.68, 5.66, 8.1, 5.86, 5.9, 7.36, 7.08, 6.22, 6.9, 5.54, 5.06, 5.68, 7.84, 7.12, 7.8, 6.78, 6.88, 6.04, 6.14, 7.24, 5.8, 6.22, 5.74, 7.82, 7.1, 6.86, 8.62, 6.34, 8.54, 6.46, 7.36, 6.52, 6.04, 6.88, 6.16, 7.56, 7.06, 5.68, 7.44, 7.32, 5.78, 7.04, 5.74, 6.34, 5.6, 6.82, 4.58, 7.28, 6.5, 7.12, 6.16, 8.34, 6.78, 7.44, 7.52, 7.8, 7.18, 6.44, 6.02, 7.22, 7.48, 5.72, 5.88, 6.38, 7.66, 7.0, 5.82, 5.34, 5.76, 8.2, 7.6, 6.5, 5.84, 7.44, 6.16, 7.28, 7.32, 6.48, 6.46, 6.04, 5.32, 8.7, 6.38, 6.42, 5.66, 7.54, 5.58, 7.56, 8.52, 5.84, 6.44, 6.14, 6.46, 6.7, 8.2, 9.66, 8.08, 5.92, 5.88, 5.92, 6.46, 7.18, 5.9, 7.1, 6.86, 8.0, 7.62, 6.46, 5.68, 6.36, 6.48, 6.14, 6.94, 6.62, 6.98, 6.82, 6.5, 5.34, 9.04, 6.32, 6.98, 7.58, 6.2, 7.1, 6.94, 7.46, 5.64, 6.4, 7.28, 8.62, 7.34, 6.8, 6.2, 6.54, 6.0, 8.22, 5.82, 7.82, 7.28, 7.98, 7.42, 8.14, 7.18, 7.64, 7.62, 6.9, 5.8, 5.78, 5.72, 8.24, 6.94, 7.76, 5.76, 5.96, 5.84, 7.08, 7.12, 4.48, 8.48, 8.2, 6.92, 5.22, 6.26, 5.4, 6.72, 5.5, 6.04, 6.34, 6.6, 6.68, 6.46, 7.44, 5.54, 6.02, 7.64, 6.9, 7.16, 6.92, 5.88, 5.98, 8.94, 6.8, 6.0, 6.42, 6.16, 8.68, 7.86, 7.62, 7.5, 8.0, 7.06, 7.46, 6.58, 6.32, 5.96, 5.76, 6.12, 7.14, 6.98, 6.12, 5.22, 6.7, 6.14, 7.24, 5.86, 6.68, 5.6, 7.0, 5.26, 6.54, 7.5, 6.64, 8.22, 7.7, 6.32, 6.86, 7.52, 8.62, 6.38, 7.92, 7.06, 6.46, 7.3, 6.86, 6.4, 5.7, 6.72, 5.92, 5.78, 6.04, 6.48, 5.42, 4.52, 5.66, 7.96, 5.2, 7.16, 7.74, 8.22, 6.14, 7.36, 8.44, 6.62, 7.02, 6.24, 6.84, 6.94, 5.92, 6.4, 5.56, 5.32, 6.56, 6.66, 6.4, 6.34, 6.02, 7.64, 6.6, 6.38, 5.68, 5.3, 7.28, 6.08, 7.22, 7.0, 7.24, 6.66, 6.34, 5.52, 5.76, 6.54, 5.86, 6.2, 6.18, 8.02, 7.34, 5.9, 5.8, 5.34, 6.08, 7.04, 6.9, 5.88, 4.14, 8.08, 6.84, 7.6, 5.4, 7.0, 6.0, 6.34, 5.52, 7.16, 7.24, 5.92, 6.74, 6.34, 6.94, 6.62, 6.8, 7.34, 6.78, 4.56, 6.36, 8.04, 5.92, 7.14, 7.32, 6.72, 7.58, 5.88, 6.98, 6.4, 7.42, 6.46, 5.82, 7.1, 6.5, 7.48, 6.92, 6.52, 7.36, 6.68, 5.78, 8.18, 6.84, 6.22, 8.32, 7.54, 7.6, 7.02, 8.88, 8.02, 5.46, 8.08, 6.54, 6.24, 5.64, 5.88, 7.46, 6.5, 7.0, 6.68, 6.1, 6.98, 7.0, 7.3, 7.0, 6.74, 8.24, 7.46, 7.04, 5.86, 6.78, 5.68, 6.72, 7.2, 8.72, 5.56, 7.12, 5.54, 7.62, 7.18, 5.48, 6.86, 6.52, 7.34, 6.88, 6.14, 7.02, 5.7, 5.82, 6.86, 7.32, 6.3, 8.56, 6.26, 5.84, 5.42, 7.18, 7.28, 5.98, 7.96, 7.96, 5.62, 7.18, 5.5, 6.8, 7.74, 7.3, 7.24, 7.98, 7.04, 6.84, 7.84, 6.12, 5.92, 8.42, 6.2, 7.18, 5.78, 6.84, 6.04, 6.72, 4.92, 7.58, 6.52, 6.88, 7.06, 6.78, 6.7, 7.08, 5.54, 8.32, 4.92, 6.5, 6.06, 6.9, 9.66, 6.16, 5.86, 7.7, 7.64, 7.42, 5.3, 6.66, 7.5, 7.4, 7.28, 5.42, 6.46, 8.64, 5.32, 7.82, 9.3, 6.54, 7.32, 6.06, 7.32, 6.92, 7.46, 5.9, 5.82, 6.36, 5.42, 6.06, 7.88, 6.74, 6.5, 5.22, 5.44, 8.24, 6.52, 6.14, 5.6, 5.96, 7.66, 7.7, 7.86, 7.0, 6.82, 6.5, 5.52, 7.94, 6.66, 5.74, 9.0, 6.34, 6.04, 6.24, 6.64, 5.66, 7.34, 6.42, 7.0, 5.7, 8.08, 6.04, 7.54, 7.38, 5.58, 6.4, 6.38, 6.66, 7.68, 6.96, 5.94, 6.22, 5.72, 5.86, 6.34, 5.94, 6.18, 6.46, 6.98, 7.92, 4.68, 6.7, 6.96, 8.58, 7.48, 6.22, 6.4, 6.48, 6.72, 5.8, 6.8, 8.18, 5.28, 6.88, 6.86, 6.2, 7.7, 7.14, 7.96, 7.12, 7.72, 7.1, 6.54, 8.18, 5.98, 5.58, 6.82, 6.52, 7.26, 8.88, 7.32, 7.96, 7.26, 5.54, 6.34, 4.84, 7.56, 6.36, 7.72, 5.86, 5.92, 5.82, 7.52, 8.24, 5.86, 6.6, 6.02, 7.0, 5.9, 6.26, 7.38, 7.66, 5.82, 5.52, 8.68, 6.98, 8.44, 7.3, 4.98, 6.68, 6.34, 6.78, 6.34, 6.66, 6.46, 5.24, 5.86, 5.74, 4.72, 6.46, 5.3, 8.06, 4.78, 7.92, 7.24, 6.6, 6.72, 8.14, 7.02, 6.52, 6.14, 5.98, 7.14, 5.12, 8.3, 6.1, 6.62, 5.66, 4.1, 7.32, 5.52, 5.58, 5.58, 6.72, 7.48, 6.62, 7.0, 6.62, 7.54, 8.34, 8.42, 6.44, 6.9, 6.98, 7.34, 6.16, 6.72, 6.2, 5.1, 6.78, 6.36, 6.1, 5.58, 7.4, 7.52, 8.36, 5.08, 8.34, 6.94, 5.34, 5.28, 5.5, 7.04, 7.58, 9.24, 8.06, 6.6, 7.12, 5.86, 6.36, 6.14, 5.08, 7.72, 7.18, 7.42, 7.18, 6.12, 5.76, 8.4, 7.48, 6.92, 6.66, 7.18, 6.7, 6.78, 6.42, 8.7, 6.62, 6.06, 6.18, 6.02, 6.34, 5.56, 6.82, 7.44, 5.98, 7.22, 5.64, 7.12, 6.32, 9.16, 4.96, 6.86, 7.22, 6.0, 6.42, 5.54, 6.76, 8.16, 6.92, 6.54, 6.02, 6.18, 5.74, 5.12, 5.36, 5.22, 8.48, 8.7, 6.56, 6.18, 6.4, 6.16, 6.68, 7.8, 6.14, 7.38, 5.6, 7.24, 6.68, 5.98, 6.06, 7.9, 5.84, 8.28, 6.48, 8.94, 7.08, 6.0, 7.0, 5.9, 6.5, 6.0, 5.9, 7.44, 6.32, 8.24, 8.8, 7.18, 9.4, 6.98, 6.46, 6.56, 6.7, 7.5, 7.7, 5.58, 7.38, 6.94, 7.8, 5.24, 6.52, 5.46, 6.52, 6.58, 5.52, 5.68, 7.04, 6.28, 6.7, 7.22, 5.94, 5.42, 6.24, 5.66, 6.2, 8.46, 7.8, 6.18, 8.22, 6.96, 6.12, 7.0, 8.68, 7.4, 6.58, 6.8, 8.52, 6.04, 6.24, 7.66, 6.1, 5.72, 5.74, 6.14, 6.68, 8.74, 6.06, 8.54, 6.84, 6.32, 7.74, 8.7, 6.34, 7.16, 6.9, 6.66, 6.16, 5.68, 9.38, 5.6, 6.5, 6.5, 6.98, 6.76, 8.02, 7.18, 5.82, 6.62, 7.28, 6.6, 6.8, 6.98, 6.16, 7.52, 6.8, 6.82, 7.24, 5.54, 4.82, 7.62, 6.04, 5.76, 5.8, 6.84, 6.74, 6.3, 6.98, 7.14, 6.74, 8.52, 7.58, 5.46, 5.3, 7.68, 6.7, 4.48, 7.68, 6.68, 7.02, 5.98, 6.04, 7.1, 7.08, 6.58, 5.84, 6.0, 5.1, 5.12, 6.12, 5.78, 5.3, 6.66, 6.64, 8.42, 5.04, 8.2, 6.84, 6.1, 4.6, 7.26, 5.8, 5.72, 5.48, 7.62, 9.32, 8.08, 8.16, 5.66, 6.82, 6.14, 5.98, 7.6, 6.66, 6.38, 6.5, 5.9, 5.34, 6.78, 7.16, 6.72, 5.68, 6.78, 6.44, 7.16, 7.38, 6.5, 6.5, 5.42, 6.44, 6.52, 8.16, 7.42, 6.04, 5.7, 6.18, 7.08, 6.56, 7.74, 5.88, 6.0, 6.3, 8.8, 6.7, 6.54, 6.54, 5.84, 5.0, 7.06, 5.2, 8.18, 5.72, 5.96, 5.38, 5.86, 5.5, 7.32, 4.98, 6.58, 6.68, 6.98, 6.8, 6.98, 6.84, 6.9, 5.18, 7.3, 5.94, 8.8, 7.96, 5.68, 5.48, 6.86, 6.06, 6.4, 5.84, 7.26, 6.62, 7.08, 7.06, 5.76, 7.2, 6.22, 7.22, 8.96, 6.52, 5.86, 7.84, 5.16, 8.02, 6.12, 6.32, 6.0, 6.48, 7.12, 6.2, 6.02, 7.26, 7.64, 7.52, 5.34, 9.88, 6.08, 6.6, 6.76, 6.22, 6.76, 5.76, 6.4, 6.88, 6.22, 8.74, 7.68, 7.84, 5.96, 7.74, 6.74, 8.44, 7.38, 7.16, 6.58, 6.02, 7.96, 7.34, 6.24, 7.44, 5.62, 5.94, 7.62, 6.14, 5.84, 6.66, 5.7, 4.76, 5.24, 6.14, 6.8, 6.16, 6.02, 5.72, 7.3, 5.7, 7.86, 7.08, 6.14, 6.2, 6.22, 7.3, 7.86, 5.86, 8.14, 7.44, 5.52, 6.18, 7.02, 6.56, 7.92, 7.14, 7.14, 6.02, 6.5, 9.68, 6.3, 7.34, 6.24, 6.56, 5.82, 6.42, 5.74, 7.38, 7.52, 6.92, 8.08, 8.72, 8.16, 4.7, 6.34, 7.74, 6.72, 6.68, 6.78, 7.16, 6.64, 7.42, 7.58, 6.84, 6.52, 4.9, 5.98, 5.88, 7.2, 6.72, 5.46, 5.52, 5.96, 5.4, 6.24, 7.26, 6.74, 6.44, 6.46, 6.3, 8.1, 6.96, 6.76, 6.22, 6.58, 7.4, 5.42, 6.1, 5.06, 5.76, 5.74, 5.7, 6.76, 7.54, 8.86, 6.48, 7.04, 7.32, 5.88, 6.84, 5.88, 6.0, 7.86, 7.82, 6.42, 5.76, 6.54, 6.78, 8.18, 5.64, 7.2, 5.3, 6.76, 7.6, 5.36, 5.24, 5.32, 6.32, 5.54, 6.6, 7.1, 4.98, 6.06, 5.84, 7.72, 6.44, 7.34, 6.0, 5.86, 7.52, 8.6, 8.08, 8.9, 7.16, 5.92, 8.5, 6.52, 6.24, 7.32, 6.86, 6.2, 7.06, 5.76, 5.7, 7.58, 5.92, 7.18, 6.18, 7.06, 6.34, 6.04, 7.14, 5.62, 6.04, 7.06, 9.06, 6.46, 7.58, 7.04, 7.52, 5.52, 6.92, 6.98, 8.08, 6.84, 7.26, 6.68, 5.3, 7.44, 7.8, 6.56, 6.28, 7.04, 5.56, 8.06, 6.2, 8.04, 5.86, 5.4, 7.12, 6.5, 6.28, 7.78, 6.02, 6.94, 7.32, 6.12, 6.6, 5.76, 8.0, 5.82, 6.2, 6.66, 5.92, 6.24, 6.4, 6.8, 5.4, 5.7, 5.06, 4.84, 7.12, 7.68, 8.02, 7.32, 7.12, 6.2, 7.14, 9.08, 4.7, 8.12, 7.3, 5.88, 5.94, 5.72, 8.26, 6.76, 6.78, 7.0, 7.14, 6.14, 7.56, 8.24, 6.82, 6.36, 5.18, 7.38, 5.94, 8.8, 6.26, 7.56, 5.92, 7.52, 8.14, 6.38, 7.86, 6.38, 5.96, 7.62, 6.64, 6.08, 5.58, 6.94, 6.38, 5.28, 5.66, 7.38, 7.24, 5.32, 6.18, 5.86, 4.9, 7.14, 6.58, 5.96, 5.42, 6.44, 5.58, 7.54, 7.62, 8.18, 6.18, 6.7, 5.84, 6.58, 6.08, 8.02, 5.36, 6.16, 6.56, 6.26, 6.74, 6.12, 9.22, 6.6, 5.94, 6.58, 6.58, 7.66, 5.32, 7.5, 6.48, 8.9, 6.74, 6.72, 5.58, 5.48, 5.44, 5.74, 7.44, 7.26, 5.28, 6.22, 6.12, 8.62, 6.4, 6.86, 6.72, 5.96, 5.16, 8.28, 6.94, 7.24, 6.66, 7.92, 4.98, 6.96, 7.48, 7.52, 7.08, 6.68, 7.46, 5.28, 5.12, 5.58, 5.2, 7.98, 5.96, 5.98, 6.34, 6.02, 6.56, 7.3, 7.4, 4.8, 7.68, 8.04, 5.4, 8.72, 7.76, 8.08, 6.44, 6.42, 7.22, 9.14, 7.9, 6.94, 7.54, 5.54, 8.78, 6.42, 6.32, 6.76, 5.84, 6.04, 6.62, 6.62, 7.1, 6.7, 5.22, 6.96, 8.18, 7.6, 5.66, 7.5, 8.18, 6.98, 6.52, 6.82, 7.06, 6.92, 7.58, 5.86, 6.08, 6.18, 7.34, 6.9, 6.42, 5.56, 9.44, 7.08, 6.06, 7.12, 7.74, 5.12, 7.52, 7.78, 6.48, 6.58, 7.66, 5.9, 6.76, 5.98, 7.5, 7.2, 6.2, 5.52, 7.86, 5.92, 5.76, 6.4, 7.1, 6.32, 5.34, 7.52, 8.14, 6.52, 8.46, 6.82, 7.28, 5.4, 8.14, 5.54, 5.16, 7.0, 7.68, 5.52, 6.12, 8.48, 7.18, 10.24, 7.88, 6.22, 7.48, 8.84, 5.86, 5.62, 6.0, 6.26, 6.38, 8.02, 4.68, 6.96, 6.08, 5.54, 6.8, 5.82, 7.72, 7.04, 5.6, 6.86, 6.56, 7.92, 6.3, 5.84, 5.96, 5.82, 5.86, 6.64, 6.14, 7.02, 7.92, 7.0, 7.86, 5.76, 5.64, 7.78, 6.22, 6.92, 6.06, 6.24, 6.6, 7.66, 6.3, 6.14, 5.02, 6.4, 6.16, 7.16, 6.74, 6.1, 6.82, 7.18, 5.5, 6.32, 6.84, 5.74, 7.8, 8.74, 5.62, 6.5, 7.06, 7.24, 6.42, 5.74, 6.26, 8.44, 6.62, 5.74, 7.52, 6.28, 8.9, 7.06, 8.08, 8.68, 7.52, 6.72, 8.86, 8.46, 5.9, 5.6, 7.56, 7.22, 5.84, 7.4, 6.9, 6.54, 5.6, 7.22, 6.48, 5.02, 6.46, 9.08, 4.76, 7.04, 7.02, 6.36, 7.86, 6.14, 5.7, 8.68, 7.72, 6.52, 7.86, 8.08, 7.34, 7.52, 6.38, 7.22, 6.08, 7.14, 6.04, 6.3, 7.06, 7.02, 8.74, 4.88, 8.46, 6.94, 6.12, 6.14, 7.5, 6.44, 6.18, 6.4, 6.42, 5.96, 7.22, 6.88, 8.98, 6.76, 7.32, 6.88, 6.3, 6.94, 4.82, 6.42, 4.96, 5.98, 6.2, 6.6, 7.62, 5.48, 6.5, 6.1, 7.52, 7.16, 6.88, 7.14, 6.1, 7.76, 6.2, 8.2, 5.94, 6.3, 7.86, 5.94, 7.38, 6.56, 4.9, 6.62, 6.1, 9.34, 6.04, 6.1, 6.86, 8.12, 7.06, 6.92, 5.96, 9.36, 5.88, 6.56, 6.02, 6.42, 9.2, 6.94, 9.84, 7.14, 5.68, 8.64, 7.6, 4.78, 6.78, 6.52, 5.1, 9.76, 6.84, 8.2, 5.88, 8.24, 7.64, 6.56, 8.14, 6.54, 6.9, 5.48, 6.24, 8.28, 7.98, 6.86, 6.6, 8.38, 7.34, 7.36, 6.7, 5.7, 6.78, 6.6, 7.16, 6.78, 8.02, 5.22, 8.24, 7.26, 6.34, 5.46, 5.36, 6.66, 7.66, 5.72, 6.36, 7.64, 7.0, 7.32, 8.1, 9.8, 6.52, 7.04, 6.62, 6.66, 6.88, 5.14, 7.12, 8.54, 5.62, 7.52, 6.6, 8.12, 6.96, 6.8, 6.6, 5.36, 5.9, 5.48, 8.54, 6.22, 5.88, 6.0, 8.82, 6.36, 6.5, 5.3, 6.48, 6.34, 7.36, 6.8, 5.9, 6.52, 7.6, 8.72, 6.12, 7.16, 5.26, 7.32, 6.7, 8.24, 5.88, 6.9, 7.52, 6.5, 7.2, 6.36, 6.4, 4.9, 7.56, 6.4, 6.74, 8.22, 5.82, 6.02, 7.04, 8.74, 5.28, 5.74, 5.76, 6.86, 8.7, 7.74, 7.46, 7.44, 5.84, 5.16, 6.98, 7.44, 7.46, 6.28, 6.54, 8.16, 6.12, 7.84, 6.84, 8.18, 7.56, 5.98, 7.6, 7.74, 6.5, 6.38, 7.42, 6.56, 6.9, 9.56, 5.38, 6.5, 6.08, 5.1, 7.48, 6.48, 7.38, 6.4, 6.68, 7.92, 5.28, 6.98, 6.46, 7.08, 8.06, 6.42, 6.68, 5.82, 4.92, 7.1, 5.36, 8.28, 5.76, 6.7, 7.5, 6.46, 8.22, 6.14, 6.86, 5.64, 6.92, 8.68, 10.02, 7.0, 7.1, 5.88, 6.3, 6.86, 6.56, 6.4, 6.18, 7.68, 7.12, 7.24, 6.18, 5.98, 8.06, 5.82, 7.28, 7.36, 6.38, 5.84, 6.78, 6.88, 8.14, 8.46, 6.08, 8.44, 7.5, 7.8, 8.3, 6.3, 5.92, 6.1, 6.56, 7.78, 7.44, 7.62, 8.1, 6.82, 7.8, 7.22, 8.42, 7.74, 6.56, 9.26, 7.26, 5.94, 6.0, 7.32, 6.68, 8.1, 7.82, 4.78, 7.64, 8.16, 8.7, 7.0, 7.24, 6.24, 6.52, 5.1, 6.96, 7.04, 5.92, 6.58, 7.68, 7.34, 6.38, 6.52, 6.1, 6.56, 6.7, 7.24, 7.2, 8.08, 7.68, 7.02, 6.04, 7.06, 5.62, 8.8, 7.18, 7.82, 5.62, 6.56, 8.72, 6.78, 7.28, 6.9, 7.26, 6.86, 7.2, 7.34, 6.18, 6.68, 6.82, 6.02, 8.5, 7.18, 5.02, 6.54, 7.66, 7.32, 5.64, 6.22, 6.1, 7.4, 8.04, 9.82, 5.28, 8.66, 6.14, 6.14, 6.46, 5.6, 10.78, 8.0, 5.78, 5.12, 7.12, 6.16, 6.48, 6.38, 6.04, 5.56, 6.16, 4.9, 6.54, 6.3, 7.0, 6.44, 7.84, 5.58, 6.46, 7.66, 6.02, 7.02, 7.16, 6.9, 6.86, 5.8, 8.0, 7.96, 6.58, 7.28, 6.22, 5.5, 7.0, 7.56, 7.18, 6.72, 7.02, 6.8, 6.7, 7.16, 7.38, 5.82, 5.88, 5.34, 6.9, 6.2, 5.86, 7.68, 6.3, 6.08, 4.48, 6.04, 7.0, 7.7, 8.7, 6.76, 6.56, 9.36, 7.3, 5.66, 6.88, 7.06, 4.56, 5.64, 6.94, 6.96, 6.82, 6.98, 6.48, 5.34, 7.38, 7.5, 7.82, 8.82, 7.26, 6.86, 7.22, 7.52, 8.64, 5.98, 7.04, 6.48, 7.44, 6.78, 6.64, 7.04, 7.4, 7.46, 7.18, 7.32, 6.06, 5.78, 8.52, 6.38, 7.78, 6.88, 5.28, 6.2, 5.66, 6.34, 7.14, 8.52, 6.86, 5.98, 5.84, 5.48, 6.54, 7.3, 6.6, 6.14, 6.78, 6.7, 7.48, 5.66, 6.92, 6.7, 6.78, 6.48, 5.72, 6.38, 7.02, 5.52, 8.08, 7.28, 7.82, 7.02, 8.66, 7.4, 8.96, 5.64, 6.8, 7.2, 5.86, 8.68, 5.32, 7.46, 6.92, 6.26, 6.32, 6.14, 5.02, 5.36, 5.36, 7.96, 7.56, 6.86, 7.14, 7.92, 4.86, 6.4, 7.42, 7.22, 7.86, 6.9, 7.8, 7.52, 8.12, 5.48, 7.48, 7.28, 5.76, 6.36, 9.4, 6.18, 8.02, 7.2, 8.28, 5.9, 7.7, 5.96, 5.76, 5.96, 5.62, 7.94, 7.6, 5.58, 6.52, 8.18, 6.96, 9.28, 5.32, 5.84, 7.12, 5.86, 6.4, 5.58, 6.32, 7.4, 7.38, 7.92, 9.22, 6.46, 7.24, 5.82, 7.22, 8.82, 7.8, 7.24, 7.66, 7.82, 6.64, 6.02, 7.7, 7.12, 9.32, 5.34, 7.0, 5.52, 7.42, 7.48, 5.52, 6.06, 6.14, 6.32, 6.58, 7.1, 5.62, 6.84, 7.18, 5.84, 5.1, 5.22, 7.6, 5.52, 6.52, 6.28, 5.6, 6.12, 7.68, 5.54, 6.52, 8.22, 8.02, 9.3, 5.42, 7.46, 6.48, 7.56, 7.06, 6.86, 5.8, 7.48, 8.74, 6.12, 6.66, 7.74, 7.28, 7.02, 6.36, 5.42, 7.34, 6.74, 7.24, 6.52, 7.46, 6.92, 7.04, 6.04, 8.12, 6.66, 6.24, 6.58, 7.6, 6.52, 5.36, 6.36, 6.18, 6.8, 5.94, 7.1, 8.36, 9.34, 7.42, 5.94, 7.36, 7.46, 8.5, 6.36, 9.02, 7.5, 8.18, 5.2, 7.78, 6.82, 5.96, 7.6, 7.1, 7.72, 5.4, 7.28, 6.38, 6.3, 6.88, 7.44, 6.26, 7.24, 5.88, 6.34, 7.48, 7.18, 7.44, 6.8, 7.48, 6.34, 5.84, 7.34, 7.24, 6.88, 8.32, 7.4, 6.5, 8.02, 6.08, 9.28, 5.34, 8.12, 6.96, 7.3, 6.84, 6.34, 4.78, 6.72, 6.76, 5.88, 7.98, 7.0, 6.32, 4.66, 5.9, 6.16, 9.74, 5.96, 7.48, 7.06, 6.84, 6.7, 8.34, 5.22, 6.4, 7.14, 8.34, 6.4, 6.9, 6.62, 8.12, 7.6, 6.68, 7.9, 7.8, 6.98, 7.02, 6.26, 5.98, 7.94, 5.92, 5.98, 5.38, 9.24, 7.14, 8.3, 7.06, 9.2, 6.96, 6.54, 7.16, 5.62, 7.18, 6.64, 5.64, 7.76, 6.66, 8.52, 5.96, 6.7, 7.5, 6.02, 8.28, 6.02, 8.38, 8.98, 6.04, 6.92, 5.06, 5.8, 7.88, 6.82, 6.98, 8.1, 7.12, 5.84, 6.42, 6.06, 6.12, 6.38, 6.08, 7.18, 8.64, 6.1, 5.24, 7.14, 8.02, 8.96, 5.5, 5.88, 9.0, 8.28, 6.52, 7.04, 7.7, 5.16, 5.96, 6.86, 6.76, 5.82, 7.08, 6.64, 6.54, 8.06, 6.26, 8.44, 6.5, 6.46, 6.14, 6.24, 6.96, 7.6, 7.58, 8.48, 6.54, 6.98, 7.42, 5.3, 5.4, 5.62, 5.44, 8.52, 6.28, 6.8, 7.18, 5.8, 6.86, 7.92, 6.34, 7.0, 6.18, 6.88, 6.2, 6.46, 6.4, 6.92, 6.4, 6.6, 7.2, 6.94, 6.28, 7.9, 5.52, 8.22, 6.54, 8.64, 7.12, 8.2, 5.74, 6.7, 7.0, 6.52, 6.56, 6.84, 7.74, 7.8, 7.16, 6.9, 6.06, 6.02, 5.94, 6.78, 5.58, 5.22, 7.12, 6.2, 6.32, 6.12, 7.08, 7.46, 7.32, 7.32, 4.92, 7.74, 5.24, 6.72, 5.34, 6.62, 5.06, 7.24, 5.16, 5.64, 5.62, 6.14, 6.0, 7.02, 6.04, 5.76, 7.62, 6.06, 6.9, 5.98, 7.44, 7.24, 6.92, 8.4, 7.86, 6.02, 5.84, 8.98, 6.7, 6.58, 7.84, 6.66, 7.96, 5.52, 8.06, 7.28, 5.64, 6.98, 9.38, 6.24, 5.56, 6.72, 6.94, 6.44, 7.44, 6.34, 7.62, 5.68, 7.32, 7.4, 6.1, 5.44, 7.72, 6.66, 6.76, 7.54, 6.08, 6.02, 7.2, 7.4, 7.4, 6.46, 7.02, 8.32, 6.72, 6.76, 7.08, 7.54, 7.02, 6.44, 7.22, 7.98, 8.26, 8.4, 6.96, 6.96, 5.02, 7.7, 7.34, 5.98, 6.7, 7.22, 8.6, 8.34, 6.62, 7.6, 5.44, 5.28, 7.54, 7.0, 6.44, 5.92, 7.38, 6.0, 7.74, 5.02, 5.96, 5.46, 5.62, 7.74, 4.48, 6.92, 7.7, 5.3, 8.94, 5.7, 4.96, 6.68, 6.7, 7.22, 5.42, 6.18, 6.26, 6.4, 8.74, 5.66, 7.32, 7.68, 5.82, 4.88, 6.44, 5.78, 6.06, 6.54, 6.96, 7.34, 6.04, 8.14, 5.94, 7.98, 5.92, 5.88, 6.04, 6.46, 6.52, 5.28, 6.16, 7.2, 7.08, 7.34, 8.64, 5.18, 5.42, 5.64, 5.34, 5.56, 6.42, 6.52, 8.72, 5.86, 6.36, 6.34, 5.7, 5.54, 5.66, 6.24, 4.92, 5.82, 4.96, 5.58, 6.06, 6.14, 6.66, 7.68, 5.66, 7.26, 8.32, 5.68, 6.06, 7.52, 6.58, 6.16, 7.82, 6.86, 7.14, 6.92, 6.68, 6.28, 6.52, 5.88, 8.7, 5.02, 7.96, 7.66, 6.96, 7.06, 6.82, 6.44, 5.48, 5.54, 5.7, 5.48, 7.28, 5.62, 6.0, 7.18, 6.2, 6.2, 7.1, 4.58, 6.18, 7.02, 6.98, 6.96, 5.98, 6.42, 6.16, 9.32, 7.7, 6.0, 6.48, 7.12, 6.84, 7.82, 6.42, 6.54, 6.16, 6.3, 6.42, 7.24, 6.4, 6.4, 7.28, 6.86, 8.02, 6.96, 5.4, 6.5, 5.8, 6.46, 6.8, 8.02, 7.1, 6.54, 5.96, 6.92, 7.18, 6.22, 7.9, 6.78, 6.24, 6.66, 7.74, 5.42, 4.3, 8.66, 6.42, 6.48, 8.12, 7.42, 6.32, 5.62, 7.36, 7.42, 5.86, 7.84, 8.36, 7.36, 6.84, 5.12, 7.64, 7.18, 5.68, 6.78, 8.36, 5.8, 8.48, 7.2, 5.5, 6.36, 7.38, 10.64, 7.06, 6.48, 6.26, 6.14, 6.76, 6.82, 7.14, 8.42, 6.22, 8.42, 6.94, 6.08, 6.2, 6.3, 6.42, 6.62, 8.56, 5.94, 6.34, 9.46, 5.04, 7.58, 5.68, 5.78, 7.86, 5.38, 7.9, 7.14, 5.7, 9.54, 5.58, 6.48, 8.76, 6.52, 5.88, 7.0, 5.54, 7.1, 5.76, 7.9, 6.06, 8.7, 7.3, 5.46, 6.32, 6.68, 5.12, 6.94, 7.88, 7.14, 6.2, 5.76, 7.68, 7.78, 6.42, 5.42, 7.62, 6.0, 8.3, 6.64, 6.06, 6.7, 6.5, 6.16, 6.16, 5.96, 5.54, 6.08, 7.34, 6.54, 7.94, 5.5, 6.94, 7.76, 6.8, 6.54, 8.84, 6.58, 5.86, 6.88, 6.62, 8.0, 6.2, 6.74, 10.1, 6.98, 6.04, 7.62, 6.72, 5.52, 7.18, 6.26, 5.82, 8.98, 5.34, 7.98, 5.66, 6.12, 5.84, 7.4, 6.72, 6.7, 6.46, 7.34, 6.86, 6.96, 6.78, 5.8, 6.3, 6.1, 5.1, 6.42, 6.92, 6.86, 5.9, 7.08, 7.42, 5.96, 7.36, 6.12, 5.84, 8.66, 6.92, 6.06, 8.66, 4.78, 6.98, 5.38, 7.48, 8.24, 5.02, 6.76, 5.76, 5.06, 6.38, 6.78, 5.84, 6.14, 5.28, 7.5, 7.5, 5.78, 6.16, 7.0, 8.08, 8.78, 6.9, 7.28, 6.56, 8.92, 6.2, 7.38, 6.0, 6.88, 5.58, 6.64, 8.76, 6.24, 6.76, 5.98, 6.2, 6.32, 7.22, 6.46, 7.14, 6.98, 6.94, 6.68, 6.3, 9.26, 6.14, 6.52, 6.56, 8.12, 6.06, 6.18, 6.44, 5.62, 7.6, 8.52, 5.78, 7.22, 7.14, 7.24, 7.72, 6.72, 5.14, 6.38, 6.52, 6.02, 7.22, 6.4, 6.22, 8.36, 5.8, 7.94, 9.08, 7.1, 5.8, 6.82, 7.26, 5.98, 5.64, 5.68, 5.44, 5.54, 9.18, 7.3, 6.26, 6.4, 7.24, 6.16, 6.82, 6.74, 6.98, 5.66, 6.82, 6.86, 7.94, 7.36, 5.98, 6.94, 7.46, 5.78, 5.98, 6.7, 6.64, 6.78, 6.88, 6.98, 7.32, 6.2, 6.34, 7.0, 7.16, 6.74, 5.0, 6.76, 7.54, 4.94, 6.54, 6.92, 7.08, 5.86, 7.36, 6.68, 8.52, 7.02, 8.2, 5.9, 6.86, 5.82, 6.4, 6.62, 7.04, 5.38, 5.62, 7.66, 5.72, 5.52, 5.84, 6.02, 4.82, 6.52, 6.76, 6.4, 6.6, 7.86, 7.46, 7.06, 7.3, 6.62, 5.18, 5.66, 7.42, 6.96, 7.54, 7.32, 6.0, 5.14, 5.6, 5.58, 5.0, 6.18, 7.76, 6.8, 6.82, 7.14, 7.28, 6.54, 6.22, 5.18, 6.64, 5.98, 7.64, 6.02, 5.96, 6.78, 6.48, 6.1, 7.34, 6.34, 5.76, 6.36, 6.02, 4.48, 9.4, 7.74, 5.64, 6.84, 6.4, 7.26, 6.7, 6.32, 5.02, 5.98, 7.22, 6.12, 5.54, 6.26, 6.18, 7.12, 6.22, 8.58, 7.4, 6.64, 6.12, 8.7, 6.6, 6.82, 6.22, 7.22, 5.96, 6.66, 7.44, 8.54, 8.68, 6.84, 6.28, 7.04, 6.8, 7.74, 6.4, 7.02, 5.78, 6.3, 7.36, 5.42, 7.42, 7.0, 7.56, 5.04, 7.7, 7.24, 7.3, 7.88, 5.4, 9.56, 7.38, 6.04, 9.24, 6.1, 6.96, 6.94, 8.68, 7.5, 6.12, 5.7, 7.04, 7.82, 5.46, 5.64, 6.84, 6.56, 4.64, 8.12, 6.58, 6.34, 5.24, 5.52, 7.66, 6.66, 8.06, 7.42, 7.58, 5.48, 8.94, 6.74, 4.88, 6.28, 8.14, 6.88, 7.72, 6.06, 5.14, 5.28, 4.9, 5.58, 7.46, 6.28, 6.0, 10.46, 6.2, 6.08, 5.48, 7.04, 7.3, 5.88, 7.7, 5.3, 6.94, 6.6, 7.48, 4.76, 7.76, 6.82, 7.4, 6.46, 7.9, 7.74, 8.24, 10.76, 6.22, 8.98, 6.92, 6.48, 6.4, 7.42, 7.76, 7.04, 7.42, 6.12, 6.66, 5.06, 5.66, 6.28, 5.72, 6.2, 8.54, 7.7, 4.62, 5.74, 7.5, 7.46, 5.84, 7.28, 7.6, 6.24, 8.36, 8.7, 5.96, 7.94, 7.4, 5.48, 7.06, 6.16, 6.84, 6.72, 7.72, 7.26, 6.34, 7.48, 7.2, 5.02, 7.08, 7.94, 5.18, 7.76, 6.1, 5.62, 6.6, 5.12, 6.3, 7.62, 7.38, 7.14, 7.54, 6.88, 5.38, 5.66, 5.92, 5.9, 6.9, 6.8, 4.92, 6.4, 8.44, 6.82, 6.76, 5.88, 7.6, 6.68, 9.24, 7.16, 4.88, 7.9, 6.54, 8.1, 5.52, 8.42, 7.52, 6.06, 7.1, 6.2, 8.44, 6.36, 4.58, 8.16, 6.4, 6.62, 6.4, 6.98, 8.3, 7.36, 5.52, 8.38, 8.48, 5.56, 6.16, 5.84, 5.1, 7.04, 5.74, 9.64, 6.62, 6.66, 5.9, 6.42, 7.32, 5.78, 6.12, 5.46, 6.58, 4.96, 7.64, 6.1, 5.78, 5.5, 6.26, 6.72, 5.72, 6.04, 7.48, 7.56, 7.62, 6.4, 6.82, 7.16, 6.68, 7.12, 5.64, 5.94, 8.2, 7.4, 7.4, 7.26, 6.92, 4.82, 6.72, 6.94, 6.74, 5.98, 6.42, 7.38, 6.6, 6.32, 5.86, 7.06, 5.86, 7.36, 7.14, 7.16, 7.02, 6.36, 6.76, 6.66, 6.88, 5.98, 5.66, 6.0, 5.84, 7.44, 4.62, 7.58, 7.42, 7.18, 5.24, 6.58, 6.64, 7.26, 6.6, 6.02, 5.84, 6.54, 6.56, 5.44, 7.04, 5.26, 5.86, 5.76, 7.32, 4.8, 6.28, 6.28, 5.98, 8.36, 7.34, 5.3, 6.8, 8.38, 7.14, 7.06, 5.84, 5.8, 8.04, 6.92, 5.96, 8.44, 5.52, 6.98, 6.94, 7.44, 5.84, 6.32, 5.56, 6.34, 8.9, 5.14, 5.84, 5.4, 6.88, 8.48, 7.8, 7.4, 5.24, 6.92, 7.02, 5.62, 5.34, 6.14, 6.04, 8.4, 6.9, 5.66, 7.08, 6.94, 6.18, 6.56, 6.42, 6.1, 6.4, 7.22, 6.6, 6.46, 5.88, 5.48, 5.98, 8.26, 5.16, 6.22, 7.46, 6.14, 6.02, 6.06, 6.36, 6.3, 6.98, 7.26, 7.24, 5.54, 6.38, 6.14, 7.38, 6.68, 5.4, 4.92, 4.64, 6.8, 5.86, 8.86, 6.4, 5.4, 5.9, 6.18, 7.58, 7.74, 7.2, 7.22, 6.3, 6.82, 5.46, 6.18, 6.66, 6.38, 5.54, 6.72, 7.9, 6.96, 7.94, 6.98, 6.86, 6.38, 6.9, 7.76, 7.4, 6.3, 4.68, 5.28, 7.56, 8.06, 8.18, 5.8, 5.44, 7.28, 5.12, 6.3, 5.5, 6.22, 6.1, 7.12, 8.84, 5.82, 6.18, 5.78, 6.72, 8.16, 6.78, 7.12, 5.98, 7.42, 7.06, 7.82, 7.22, 6.24, 7.52, 7.56, 7.38, 5.56, 7.92, 6.3, 6.66, 6.08, 6.02, 7.04, 7.54, 6.76, 7.96, 8.2, 4.9, 7.6, 6.34, 6.38, 5.82, 7.34, 7.42, 7.58, 6.54, 6.38, 5.22, 7.24, 6.62, 6.98, 5.86, 7.14, 7.1, 5.34, 7.04, 6.3, 6.04, 7.26, 6.22, 5.38, 7.4, 4.96, 5.72, 7.22, 5.58, 7.44, 7.26, 7.88, 6.44, 6.86, 6.2, 6.16, 8.32, 5.14, 6.68, 6.32, 6.06, 6.46, 5.42, 6.84, 6.8, 6.22, 5.58, 8.12, 5.76, 7.0, 8.78, 7.94, 6.32, 6.9, 6.9, 6.82, 7.4, 5.68, 7.66, 7.5, 5.36, 6.04, 5.12, 7.56, 6.26, 7.44, 6.62, 6.0, 7.26, 8.46, 4.72, 4.18, 5.64, 7.54, 5.08, 6.36, 6.56, 7.32, 6.48, 7.24, 6.36, 5.52, 8.1, 7.78, 7.92, 6.0, 6.22, 7.46, 5.76, 6.14, 7.38, 6.76, 7.24, 6.46, 8.04, 6.16, 6.42, 8.68, 6.88, 6.96, 7.14, 6.02, 7.04, 7.72, 7.18, 7.0, 5.48, 8.38, 6.0, 5.4, 7.12, 5.72, 6.34, 9.76, 5.62, 7.16, 4.58, 6.82, 5.58, 8.54, 5.9, 7.52, 4.7, 5.34, 6.42, 6.32, 6.0, 7.12, 4.04, 7.5, 7.52, 6.82, 7.28, 7.0, 5.86, 8.04, 6.82, 6.1, 8.1, 6.8, 6.32, 8.1, 5.12, 9.06, 6.74, 6.96, 6.9, 5.76, 5.58, 6.44, 6.88, 7.12, 7.3, 6.5, 4.36, 8.34, 6.08, 5.54, 5.86, 7.12, 5.9, 6.18, 6.2, 5.86, 7.82, 6.54, 7.48, 6.14, 7.08, 4.4, 6.12, 6.42, 8.38, 5.26, 7.2, 4.46, 6.2, 6.4, 8.02, 6.98, 6.16, 6.42, 6.92, 9.44, 6.04, 6.46, 6.08, 5.98, 6.92, 8.4, 6.18, 7.02, 5.5, 6.86, 6.14, 6.4, 6.82, 5.12, 8.84, 7.14, 6.32, 7.86, 8.02, 4.88, 6.4, 7.36, 7.0, 7.3, 6.04, 7.2, 6.02, 8.12, 6.58, 5.92, 7.52, 7.06, 7.9, 8.76, 7.0, 6.98, 5.8, 6.94, 8.8, 6.96, 5.86, 7.24, 6.84, 6.08, 7.38, 5.18, 7.88, 6.0, 7.64, 7.94, 6.88, 6.24, 8.76, 7.62, 6.0, 6.44, 4.38, 7.22, 6.22, 7.38, 6.98, 7.88, 5.04, 6.56, 5.06, 10.58, 7.36, 6.32, 6.4, 6.34, 7.18, 6.04, 7.26, 6.32, 4.84, 7.72, 7.9, 4.62, 5.22, 7.1, 8.56, 5.62, 6.28, 7.6, 7.88, 6.06, 5.26, 7.38, 7.04, 6.2, 5.38, 6.92, 7.16, 7.92, 6.08, 6.12, 5.9, 6.12, 7.62, 8.7, 5.32, 7.7, 6.42, 6.72, 5.76, 6.18, 5.74, 6.54, 7.2, 7.08, 6.62, 8.36, 6.8, 7.64, 5.7, 6.34, 5.98, 8.42, 8.12, 6.78, 6.6, 5.78, 7.82, 7.58, 7.76, 7.12, 7.24, 4.28, 7.28, 6.52, 7.58, 6.7, 6.54, 5.82, 6.38, 6.7, 7.3, 5.4, 6.48, 6.1, 7.3, 8.16, 7.64, 5.74, 6.14, 5.54, 6.4, 5.14, 6.86, 6.16, 7.1, 5.92, 7.68, 6.74, 6.0, 6.28, 9.26, 6.24, 6.04, 6.7, 5.12, 8.84, 7.2, 6.94, 6.96, 7.86, 6.7, 5.54, 5.8, 6.1, 7.42, 6.26, 6.04, 6.86, 6.74, 6.22, 7.86, 8.08, 7.02, 6.52, 5.84, 6.76, 6.34, 6.5, 5.98, 6.66, 5.98, 6.14, 7.08, 6.42, 6.1, 5.6, 7.74, 5.48, 7.88, 5.04, 7.08, 7.8, 7.54, 10.9, 8.06, 8.88, 6.1, 6.38, 7.92, 4.88, 5.48, 7.06, 8.4, 6.86, 6.36, 6.18, 8.8, 7.92, 6.54, 6.18, 7.26, 5.02, 5.56, 5.74, 6.28, 6.64, 7.02, 7.08, 6.16, 6.28, 7.72, 6.78, 7.6, 7.4, 5.68, 6.68, 7.26, 6.9, 7.62, 6.28, 5.14, 5.66, 5.88, 5.5, 6.96, 5.52, 6.02, 6.96, 5.48, 8.12, 8.38, 8.34, 9.12, 5.92, 6.78, 6.94, 7.5, 7.12, 5.58, 8.3, 6.8, 5.06, 6.66, 6.28, 6.78, 6.24, 7.16, 5.88, 5.98, 7.1, 7.14, 7.3, 6.56, 6.38, 7.96, 7.24, 6.48, 7.12, 5.6, 7.6, 6.18, 7.52, 8.08, 6.12, 5.02, 7.22, 6.5, 8.48, 5.82, 7.34, 8.22, 6.56, 6.04, 5.04, 7.4, 7.48, 7.88, 5.88, 9.62, 6.5, 6.7, 6.24, 7.06, 6.72, 4.54, 8.78, 5.78, 7.04, 5.16, 5.66, 5.7, 6.48, 7.54, 7.58, 5.98, 7.1, 6.24, 6.3, 5.32, 7.3, 6.34, 8.72, 6.52, 9.38, 6.96, 6.9, 5.44, 6.52, 6.3, 8.08, 7.24, 7.34, 5.98, 5.68, 6.9, 8.76, 7.84, 7.08, 6.2, 6.82, 8.44, 5.84, 7.88, 6.94, 6.02, 7.78, 6.54, 7.48, 8.82, 7.74, 8.56, 5.8, 6.02, 7.0, 7.28, 7.66, 7.3, 5.82, 6.82, 5.94, 8.6, 7.4, 8.08, 5.42, 6.84, 4.4, 7.44, 7.0, 6.06, 7.2, 6.48, 6.44, 8.02, 6.3, 9.26, 7.28, 7.88, 7.38, 8.92, 7.02, 4.82, 5.86, 7.04, 6.82, 8.4, 5.82, 7.96, 6.84, 5.72, 5.72, 8.68, 5.82, 6.74, 6.76, 5.12, 8.32, 6.7, 5.86, 6.74, 6.36, 6.12, 6.98, 5.92, 7.56, 5.58, 6.0, 6.12, 7.5, 7.04, 7.36, 6.18, 7.28, 5.76, 6.66, 7.16, 7.62, 6.44, 7.28, 8.76, 7.42, 7.64, 6.82, 7.08, 5.98, 4.84, 6.72, 6.8, 7.68, 7.34, 7.78, 7.1, 6.44, 5.02, 7.68, 6.06, 7.12, 5.74, 7.36, 6.18, 8.72, 8.58, 6.1, 7.2, 7.18, 6.8, 5.28, 7.14, 5.26, 7.38, 6.46, 7.38, 7.02, 6.1, 7.44, 7.66, 7.6, 7.02, 7.66, 7.64, 8.18, 6.84, 6.66, 5.96, 6.98, 6.42, 5.88, 5.96, 7.94, 6.16, 6.7, 7.08, 6.4, 4.88, 6.64, 6.26, 5.72, 6.2, 7.46, 6.98, 8.08, 5.28, 6.56, 7.46, 7.1, 8.36, 6.84, 7.92, 6.9, 7.5, 6.82, 6.68, 6.22, 5.48, 7.6, 8.22, 6.62, 6.08, 6.62, 6.02, 5.72, 7.02, 7.58, 7.12, 7.54, 8.54, 6.88, 7.4, 8.76, 6.22, 7.1, 7.2, 5.2, 6.66, 7.84, 5.84, 6.38, 7.46, 6.3, 7.6, 6.6, 7.78, 6.66, 7.16, 6.8, 5.56, 6.64, 5.68, 6.76, 6.72, 5.36, 6.32, 6.7, 6.38, 5.34, 7.32, 6.46, 4.78, 6.48, 6.68, 6.98, 7.98, 6.8, 8.08, 5.34, 7.36, 5.52, 8.98, 6.82, 5.12, 7.22, 6.58, 8.08, 6.18, 9.18, 6.32, 7.46, 6.16, 6.82, 8.0, 6.6, 6.9, 6.56, 6.86, 8.44, 4.74, 5.92, 6.08, 7.3, 6.8, 5.7, 6.08, 6.22, 8.12, 6.58, 9.5, 7.66, 7.32, 6.24, 9.24, 7.86, 7.44, 6.96, 7.24, 5.16, 6.76, 5.16, 6.5, 7.26, 5.96, 8.18, 6.8, 6.48, 7.3, 6.46, 6.86, 6.24, 7.54, 5.6, 6.26, 7.08, 6.32, 6.84, 6.0, 7.32, 6.4, 5.76, 6.42, 7.56, 9.54, 7.48, 7.56, 7.54, 6.54, 6.56, 7.0, 5.92, 5.58, 6.94, 7.6, 8.18, 7.9, 6.42, 7.98, 5.7, 5.54, 6.7, 6.84, 6.14, 6.46, 6.74, 6.42, 6.92, 5.52, 6.62, 5.06, 7.94, 5.06, 8.62, 6.16, 7.72, 7.32, 6.14, 5.56, 7.04, 7.32, 6.12, 5.64, 6.06, 5.9, 7.56, 7.7, 6.42, 6.64, 6.18, 4.9, 6.9, 6.6, 7.06, 6.34, 7.7, 7.08, 6.22, 6.54, 5.36, 5.92, 6.58, 6.52, 5.36, 7.52, 5.26, 5.26, 5.44, 9.06, 7.34, 7.54, 5.98, 4.68, 6.02, 8.64, 6.02, 5.98, 5.04, 6.86, 6.48, 7.14, 8.48, 5.86, 8.56, 7.76, 7.08, 8.66, 5.5, 8.36, 8.08, 5.7, 5.2, 5.74, 6.8, 8.72, 5.92, 6.56, 7.44, 6.2, 5.88, 8.7, 5.88, 8.16, 6.56, 5.68, 5.76, 4.8, 5.92, 8.92, 7.94, 5.44, 6.56, 7.38, 6.84, 6.56, 8.2, 7.78, 7.24, 6.48, 7.6, 5.56, 6.36, 6.22, 6.12, 6.8, 6.98, 6.48, 4.76, 6.96, 6.02, 6.64, 7.84, 6.4, 6.28, 6.38, 5.62, 8.26, 6.08, 6.8, 7.92, 7.3, 8.3, 5.06, 6.14, 7.68, 8.32, 5.32, 6.66, 6.02, 6.38, 6.74, 7.48, 7.56, 7.4, 6.76, 5.06, 5.62, 6.04, 7.02, 6.46, 7.16, 7.66, 6.14, 5.8, 7.84, 7.24, 6.28, 7.54, 6.26, 6.82, 5.86, 6.26, 7.04, 6.04, 6.86, 8.58, 8.76, 6.06, 5.84, 5.54, 7.2, 5.86, 5.98, 7.44, 6.72, 7.48, 7.6, 6.32, 7.52, 6.14, 7.08, 6.6, 6.24, 5.76, 7.12, 6.1, 6.44, 7.16, 6.36, 5.52, 7.18, 6.16, 6.72, 7.58, 5.86, 6.26, 6.32, 7.16, 6.42, 6.6, 6.62, 6.14, 7.88, 6.34, 6.18, 6.54, 5.94, 6.56, 5.62, 6.1, 5.44, 7.5, 7.2, 7.24, 7.1, 6.54, 8.16, 7.3, 5.34, 7.58, 6.74, 5.32, 6.14, 5.26, 6.38, 7.32, 7.02, 8.64, 6.52, 6.0, 7.1, 6.06, 5.92, 10.66, 8.22, 6.4, 10.52, 6.3, 6.56, 6.06, 6.66, 7.14, 6.98, 9.22, 6.48, 7.44, 5.06, 5.48, 4.24, 9.86, 6.68, 6.8, 5.5, 6.84, 6.9, 7.64, 7.14, 7.68, 8.06, 8.36, 8.1, 6.78, 7.44, 5.72, 6.54, 8.04, 5.78, 6.74, 5.62, 5.28, 5.66, 8.88, 7.76, 7.26, 5.82, 7.4, 7.66, 6.94, 6.98, 5.58, 6.98, 6.64, 8.96, 6.14, 6.78, 5.32, 6.88, 6.7, 7.32, 6.28, 5.88, 6.06, 6.32, 6.9, 7.4, 6.38, 4.78, 8.1, 6.94, 9.54, 5.7, 8.9, 5.48, 5.92, 7.28, 4.78, 7.04, 8.02, 7.16, 6.86, 5.9, 7.64, 7.18, 6.94, 6.34, 7.2, 6.44, 7.9, 5.9, 5.04, 4.62, 6.24, 7.08, 7.24, 5.84, 7.7, 6.48, 5.82, 6.5, 6.5, 6.8, 6.34, 6.8, 6.46, 8.46, 6.36, 6.24, 6.96, 7.52, 7.32, 6.58, 6.28, 6.26, 6.6, 7.46, 7.64, 5.72, 7.0, 5.7, 7.86, 7.76, 7.82, 7.3, 7.82, 5.34, 6.52, 6.38, 6.04, 5.86, 8.34, 6.44, 6.6, 7.28, 5.48, 5.18, 5.78, 6.62, 6.7, 6.46, 7.4, 7.3, 8.06, 6.44, 6.44, 6.18, 7.42, 5.74, 6.44, 5.94, 7.8, 6.92, 6.58, 4.98, 6.02, 6.24, 8.66, 6.2, 6.74, 6.96, 5.18, 7.24, 6.8, 6.54, 6.3, 8.44, 7.12, 7.56, 6.74, 6.78, 6.44, 6.54, 6.5, 6.98, 7.5, 5.76, 9.04, 6.7, 8.04, 6.06, 6.62, 7.88, 5.02, 6.02, 7.64, 6.7, 7.4, 8.8, 5.94, 4.8, 6.76, 6.8, 5.98, 8.34, 7.28, 5.94, 8.68, 5.76, 4.22, 7.04, 6.28, 7.5, 6.98, 6.34, 7.92, 5.82, 6.72, 6.4, 8.64, 6.82, 6.82, 7.14, 6.36, 6.58, 6.4, 5.86, 5.72, 7.08, 7.06, 6.06, 8.4, 9.2, 6.28, 5.02, 6.76, 7.36, 8.08, 7.26, 7.84, 8.36, 5.78, 5.06, 6.64, 5.38, 5.34, 7.02, 7.28, 5.8, 8.54, 7.36, 7.22, 7.48, 7.62, 8.52, 5.44, 6.2, 4.98, 6.78, 4.54, 5.88, 9.08, 6.56, 6.32, 6.36, 5.8, 7.08, 6.0, 6.54, 4.34, 6.3, 6.44, 7.46, 6.64, 6.52, 4.8, 9.58, 7.96, 5.92, 7.42, 7.48, 5.56, 6.5, 7.74, 8.08, 6.6, 6.5, 5.3, 7.94, 6.92, 6.08, 7.88, 6.88, 8.02, 8.06, 7.46, 8.88, 6.48, 6.36, 6.06, 6.26, 5.62, 7.34, 7.5, 5.2, 7.66, 5.02, 5.92, 6.4, 7.7, 5.66, 6.8, 5.88, 5.5, 4.84, 6.94, 6.74, 7.42, 6.1, 6.74, 9.24, 6.2, 6.5, 4.82, 5.58, 5.4, 7.56, 5.5, 5.3, 6.26, 8.36, 7.64, 6.34, 5.92, 6.08, 6.26, 7.34, 6.86, 7.8, 7.08, 7.12, 7.86, 7.62, 6.42, 5.06, 6.04, 6.7, 7.6, 6.4, 6.06, 5.46, 6.46, 7.38, 5.32, 5.78, 7.44, 7.24, 6.16, 6.8, 5.8, 5.36, 6.4, 6.4, 6.5, 6.7, 6.7, 6.7, 5.82, 5.04, 6.88, 6.02, 6.32, 5.8, 6.92, 6.94, 6.52, 6.44, 7.36, 5.76, 7.6, 9.06, 6.32, 6.98, 8.58, 8.98, 6.74, 7.54, 6.42, 8.46, 6.62, 6.62, 5.22, 5.74, 7.38, 7.34, 5.72, 6.54, 7.9, 6.18, 5.82, 7.94, 6.76, 6.5, 7.6, 6.96, 5.6, 7.32, 6.84, 7.1, 5.08, 6.3, 6.46, 6.56, 6.68, 5.66, 6.3, 6.36, 6.7, 5.74, 7.32, 9.14, 8.18, 6.76, 8.0, 6.82, 5.84, 7.26, 6.38, 7.1, 5.7, 6.96, 6.02, 6.26, 4.7, 7.74, 6.2, 5.66, 6.2, 7.0, 6.6, 6.72, 7.66, 8.66, 6.02, 6.94, 8.18, 6.56, 6.34, 5.58, 6.14, 6.58, 6.84, 5.62, 6.7, 6.6, 7.74, 7.94, 6.54, 7.04, 8.12, 5.96, 6.2, 5.98, 5.1, 6.16, 5.26, 5.66, 6.82, 6.48, 7.94, 5.14, 6.66, 6.98, 8.16, 6.78, 6.24, 9.82, 7.52, 6.74, 6.0, 6.4, 5.66, 5.92, 7.86, 9.58, 5.92, 5.74, 7.46, 6.2, 5.88, 6.68, 6.12, 6.1, 5.98, 6.0, 7.6, 6.92, 5.96, 7.42, 9.78, 5.62, 6.88, 7.24, 7.94, 5.16, 7.44, 5.82, 6.66, 4.94, 8.26, 6.68, 6.36, 9.18, 7.0, 7.62, 6.84, 5.16, 6.42, 9.06, 6.56, 6.08, 6.44, 6.08, 9.38, 7.08, 6.88, 6.62, 5.72, 5.86, 6.38, 5.94, 7.04, 5.72, 8.2, 8.4, 7.32, 6.82, 6.7, 6.04, 7.0, 6.9, 6.88, 6.66, 6.48, 7.24, 9.76, 7.56, 8.76, 7.8, 5.8, 6.12, 7.26, 7.46, 7.82, 5.7, 5.66, 7.6, 6.14, 6.82, 8.44, 8.36, 6.98, 6.3, 7.46, 5.36, 6.12, 7.1, 6.12, 6.32, 7.36, 5.4, 8.8, 6.6, 8.34, 8.3, 5.48, 8.7, 6.66, 6.32, 6.62, 5.22, 6.94, 6.48, 5.5, 5.2, 5.7, 6.54, 6.26, 5.02, 5.0, 5.62, 7.56, 6.22, 6.0, 8.34, 7.5, 5.88, 5.14, 6.64, 5.84, 7.9, 6.88, 7.98, 8.2, 6.24, 5.12, 7.02, 7.08, 5.7, 8.9, 6.64, 6.84, 7.08, 7.84, 5.32, 6.58, 7.24, 6.16, 7.84, 7.06, 6.48, 7.94, 7.92, 7.8, 5.96, 6.14, 6.94, 8.68, 7.62, 5.62, 4.78, 5.42, 7.48, 6.98, 5.62, 7.04, 7.52, 6.18, 8.12, 7.68, 5.48, 5.92, 5.7, 6.06, 6.7, 6.8, 5.84, 7.26, 6.2, 6.96, 8.96, 8.42, 4.44, 6.76, 6.98, 7.34, 5.78, 7.08, 6.6, 5.9, 7.06, 8.08, 5.86, 5.68, 4.38, 7.36, 6.96, 6.7, 8.86, 5.96, 6.56, 8.22, 5.66, 6.28, 5.32, 7.74, 7.42, 5.84, 7.7, 6.6, 8.38, 7.0, 5.28, 8.98, 7.98, 8.84, 6.76, 6.92, 7.56, 6.62, 6.3, 5.72, 6.82, 7.98, 6.8, 6.44, 5.84, 7.68, 6.38, 5.84, 7.1, 4.94, 5.52, 6.02, 5.14, 7.16, 6.48, 7.52, 7.16, 6.6, 6.86, 6.24, 5.52, 7.5, 7.36, 6.2, 7.72, 5.72, 6.76, 5.98, 6.86, 8.02, 7.24, 6.98, 6.04, 6.6, 7.14, 7.9, 6.62, 7.74, 6.96, 7.6, 8.08, 6.38, 5.46, 5.4, 6.32, 5.6, 5.14, 5.74, 5.88, 7.24, 6.02, 6.06, 5.12, 5.12, 8.2, 5.7, 7.02, 7.48, 8.52, 5.18, 7.46, 5.92, 6.36, 6.42, 6.76, 5.38, 6.58, 7.32, 5.96, 6.14, 7.04, 7.88, 6.3, 6.42, 8.1, 6.3, 7.36, 6.48, 7.24, 5.34, 8.04, 7.58, 6.72, 6.9, 6.02, 6.6, 6.46, 5.42, 6.82, 8.48, 8.04, 6.26, 5.56, 7.1, 5.96, 7.72, 8.08, 5.94, 6.16, 7.16, 7.22, 4.78, 6.98, 6.8, 7.1, 6.24, 7.22, 6.84, 6.44, 6.04, 6.32, 8.16, 6.04, 8.34, 6.12, 6.48, 6.2, 6.04, 8.24, 5.84, 6.28, 7.46, 7.18, 6.74, 7.08, 5.3, 6.16, 7.0, 7.28, 4.36, 7.68, 7.56, 7.58, 7.1, 5.68, 7.76, 5.84, 6.04, 6.9, 7.4, 6.54, 9.6, 6.96, 6.86, 5.96, 6.5, 5.7, 6.76, 7.76, 7.24, 7.02, 9.28, 6.78, 6.24, 5.12, 7.64, 6.82, 8.74, 5.98, 6.76, 6.72, 6.04, 6.0, 7.12, 5.06, 8.46, 6.16, 8.22, 6.86, 5.7, 6.4, 6.66, 6.1, 5.98, 6.96, 5.86, 6.4, 7.48, 7.74, 6.48, 5.2, 8.46, 8.02, 6.62, 5.22, 7.02, 9.5, 6.68, 8.1, 6.84, 7.34, 6.34, 6.22, 7.08, 5.62, 7.42, 8.06, 6.96, 5.72, 7.36, 6.0, 6.52, 6.12, 5.6, 6.7, 8.98, 5.78, 5.64, 5.82, 7.18, 6.66, 8.4, 5.46, 6.62, 7.96, 7.1, 6.76, 5.32, 5.98, 7.64, 6.92, 6.18, 6.68, 6.46, 7.02, 8.38, 7.72, 9.74, 8.72, 5.86, 6.28, 6.94, 7.22, 6.54, 6.72, 7.34, 6.7, 6.14, 5.88, 7.46, 5.3, 5.8, 8.08, 7.68, 6.24, 6.9, 7.54, 5.08, 8.18, 7.86, 5.36, 6.8, 6.72, 5.48, 5.26, 6.56, 6.34, 7.22, 6.78, 6.6, 7.66, 5.48, 5.68, 4.92, 8.44, 6.72, 5.1, 8.76, 6.76, 7.46, 6.62, 8.4, 5.42, 5.72, 7.14, 6.52, 6.8, 8.64, 4.88, 5.96, 5.7, 6.98, 6.1, 7.08, 6.68, 6.68, 6.68, 6.84, 6.68, 6.16, 7.68, 8.04, 5.78, 5.7, 8.46, 6.7, 7.34, 6.72, 5.84, 5.78, 6.6, 6.4, 7.12, 6.26, 5.32, 10.38, 8.34, 6.28, 7.84, 7.0, 7.88, 8.24, 6.24, 6.34, 7.4, 5.82, 7.54, 6.18, 5.96, 7.74, 7.5, 6.24, 8.64, 5.26, 6.96, 9.28, 7.68, 6.28, 5.8, 7.16, 6.5, 7.76, 6.36, 6.14, 7.1, 7.52, 6.7, 5.98, 7.14, 6.7, 6.56, 4.44, 7.08, 6.96, 6.0, 7.3, 6.4, 5.24, 5.8, 6.3, 5.98, 6.42, 7.0, 7.34, 6.26, 6.2, 6.9, 7.1, 7.2, 7.44, 8.18, 6.8, 7.26, 5.94, 5.92, 6.36, 6.4, 6.76, 8.06, 7.82, 6.38, 6.6, 9.02, 6.76, 6.78, 5.24, 6.94, 6.24, 7.48, 6.38, 6.94, 6.32, 8.8, 6.96, 6.58, 7.46, 5.68, 6.12, 6.92, 4.2, 7.04, 7.6, 4.84, 7.54, 6.68, 6.84, 5.94, 8.38, 8.0, 9.26, 6.02, 8.46, 8.38, 5.46, 7.58, 6.44, 5.04, 5.14, 7.16, 7.54, 6.44, 5.64, 6.86, 6.2, 5.98, 7.2, 5.8, 7.88, 5.3, 6.54, 5.96, 7.4, 6.58, 7.08, 6.4, 6.92, 7.42, 5.18, 6.28, 6.66, 8.32, 5.76, 7.8, 7.14, 7.78, 6.44, 7.4, 5.9, 6.36, 7.26, 6.38, 6.56, 6.4, 6.26, 7.74, 7.68, 8.58, 6.72, 6.92, 5.96, 5.44, 7.42, 6.12, 6.62, 6.86, 5.38, 6.58, 6.9, 5.86, 7.0, 6.08, 7.36, 7.42, 7.48, 6.62, 5.52, 7.62, 6.02, 6.38, 6.36, 9.0, 6.84, 7.58, 6.14, 8.66, 6.3, 7.72, 7.16, 6.7, 7.02, 6.68, 8.18, 5.46, 7.32, 7.4, 5.02, 6.42, 6.16, 8.94, 6.18, 7.08, 6.4, 5.72, 7.22, 6.56, 6.62, 7.06, 4.68, 6.56, 5.66, 6.02, 6.58, 5.9, 7.04, 7.32, 8.44, 7.66, 8.2, 7.52, 6.44, 7.56, 8.36, 7.18, 5.64, 6.48, 5.6, 7.28, 5.84, 6.06, 5.26, 8.78, 6.72, 7.94, 6.54, 6.0, 7.3, 4.82, 5.44, 6.56, 7.02, 8.22, 7.2, 6.66, 7.44, 7.5, 7.44, 7.14, 7.9, 6.38, 7.68, 7.76, 5.54, 4.7, 7.5, 6.76, 6.46, 6.46, 5.56, 6.26, 5.86, 5.36, 6.8, 7.22, 6.62, 7.08, 7.38, 6.84, 6.28, 8.02, 8.2, 5.64, 7.8, 5.18, 5.48, 6.44, 5.28, 5.98, 7.1, 5.54, 6.08, 5.74, 7.12, 6.3, 5.46, 8.5, 5.86, 6.36, 5.88, 6.48, 6.34, 7.0, 6.0, 5.1, 8.26, 6.3, 6.16, 7.26, 6.76, 7.04, 5.12, 6.28, 6.34, 7.24, 6.76, 6.4, 7.22, 7.3, 7.62, 5.68, 6.24, 7.02, 7.42, 6.64, 5.4, 5.7, 5.16, 6.52, 6.78, 6.16, 7.68, 7.82, 6.02, 7.06, 5.12, 6.66, 7.58, 6.36, 7.66, 6.6, 5.68, 6.16, 5.06, 6.04, 7.0, 7.76, 6.16, 6.36, 9.1, 9.06, 7.34, 7.52, 4.94, 6.52, 5.66, 5.74, 5.76, 6.3, 7.74, 6.68, 5.9, 5.68, 6.16, 6.42, 5.5, 7.28, 6.94, 8.12, 7.86, 6.78, 6.92, 7.32, 6.5, 7.44, 6.4, 7.46, 7.28, 6.78, 6.74, 8.12, 5.76, 6.62, 6.4, 8.78, 7.22, 5.6, 7.38, 6.18, 6.56, 7.78, 7.08, 10.1, 8.3, 9.38, 6.82, 5.42, 5.84, 7.92, 6.54, 7.02, 8.54, 5.76, 6.48, 9.26, 7.56, 7.74, 7.04, 7.32, 6.64, 6.92, 7.08, 7.82, 5.54, 6.56, 6.28, 6.0, 8.22, 8.06, 7.2, 6.54, 5.2, 7.02, 5.26, 6.42, 6.58, 6.44, 7.78, 6.04, 7.28, 6.58, 6.02, 5.66, 7.1, 8.02, 5.7, 6.54, 6.74, 7.58, 6.86, 7.06, 6.48, 7.1, 5.88, 6.4, 5.92, 6.1, 7.94, 6.32, 6.86, 6.26, 6.16, 8.26, 6.66, 6.6, 7.04, 6.38, 5.46, 6.42, 6.64, 7.86, 5.72, 6.6, 6.42, 6.44, 7.64, 6.34, 6.02, 7.26, 8.3, 6.5, 8.56, 6.96, 6.1, 5.86, 5.32, 7.46, 6.26, 7.26, 5.54, 6.12, 8.18, 6.66, 7.22, 6.74, 7.7, 8.28, 7.64, 4.96, 6.56, 7.28, 6.5, 7.14, 6.66, 5.2, 7.1, 6.88, 7.74, 6.42, 6.12, 6.04, 9.42, 7.64, 5.32, 6.84, 7.42, 6.26, 6.36, 5.62, 6.8, 5.28, 6.52, 6.54, 6.4, 6.66, 4.76, 5.1, 5.72, 6.3, 7.06, 7.68, 6.8, 5.72, 7.16, 7.94, 6.28, 5.82, 5.32, 5.16, 5.32, 8.1, 5.62, 7.7, 7.0, 7.18, 8.42, 6.32, 6.04, 7.6, 7.94, 7.92, 5.66, 6.34, 5.76, 7.16, 8.1, 7.94, 6.94, 7.32, 6.04, 6.88, 8.48, 5.44, 6.08, 6.1, 7.06, 6.36, 5.08, 7.3, 7.84, 6.14, 9.12, 7.48, 6.14, 7.1, 7.4, 6.94, 7.56, 6.56, 7.08, 8.16, 5.22, 6.08, 6.46, 6.34, 5.68, 7.0, 6.04, 7.86, 5.16, 6.52, 5.72, 6.92, 7.24, 6.96, 6.36, 6.48, 6.9, 5.4, 7.94, 6.74, 6.26, 4.8, 7.3, 7.58, 5.72, 8.4, 7.14, 7.6, 8.22, 7.24, 6.74, 7.3, 8.26, 6.24, 7.58, 5.6, 6.48, 8.54, 6.2, 7.1, 8.1, 5.92, 6.0, 6.62, 7.8, 5.88, 8.86, 7.36, 7.5, 5.52, 5.38, 7.02, 6.52, 7.22, 7.86, 5.58, 6.42, 6.3, 7.02, 6.22, 6.48, 6.88, 8.82, 4.78, 5.32, 6.7, 7.28, 5.84, 8.68, 6.48, 5.12, 6.16, 5.88, 7.0, 6.94, 8.64, 5.76, 5.52, 7.34, 8.08, 5.34, 5.8, 7.66, 7.02, 5.2, 6.04, 5.88, 7.48, 5.58, 7.06, 7.08, 6.52, 5.52, 5.8, 6.98, 6.56, 7.9, 6.06, 6.44, 7.48, 6.64, 7.02, 6.24, 6.3, 5.46, 5.48, 7.04, 7.84, 7.06, 6.08, 7.42, 6.4, 5.94, 7.32, 6.62, 6.92, 8.02, 7.48, 6.42, 7.4, 6.2, 6.66, 6.56, 6.12, 7.08, 5.74, 6.72, 7.98, 5.98, 6.68, 6.8, 7.28, 7.06, 7.34, 6.96, 6.36, 5.92, 8.3, 9.2, 7.32, 4.88, 7.06, 7.08, 6.9, 7.94, 6.52, 6.92, 7.64, 7.06, 6.84, 6.74, 6.28, 6.28, 6.5, 5.4, 7.74, 7.46, 5.62, 6.78, 6.82, 6.46, 4.72, 6.8, 6.4, 8.58, 7.0, 6.22, 6.64, 5.88, 7.78, 7.96, 7.38, 5.92, 6.94, 5.76, 6.48, 7.4, 9.08, 7.72, 7.5, 6.12, 6.76, 7.52, 7.14, 4.96, 7.22, 7.18, 6.0, 7.24, 5.96, 6.98, 5.64, 8.26, 5.9, 6.18, 6.22, 5.94, 6.86, 5.22, 7.24, 6.14, 7.74, 6.58, 7.6, 4.82, 7.3, 5.36, 7.84, 7.84, 6.98, 6.6, 8.24, 8.12, 6.78, 6.86, 7.56, 6.36, 5.9, 6.02, 7.28, 5.82, 6.18, 6.3, 6.62, 8.08, 7.92, 7.4, 6.16, 6.36, 5.46, 6.52, 8.36, 6.7, 5.12, 8.38, 7.62, 6.08, 8.02, 7.66, 9.6, 9.44, 7.12, 6.96, 6.72, 5.72, 6.7, 6.2, 6.68, 6.96, 7.92, 6.22, 5.92, 5.76, 7.54, 6.78, 6.14, 7.64, 6.24, 7.3, 9.16, 6.34, 6.4, 6.6, 6.96, 6.0, 6.7, 5.22, 8.32, 6.42, 6.94, 5.66, 5.48, 6.5, 6.04, 8.4, 6.96, 6.66, 7.3, 7.26, 6.42, 7.14, 7.18, 5.96, 7.92, 5.6, 6.32, 8.06, 6.06, 8.92, 6.42, 7.86, 6.62, 8.34, 6.38, 6.08, 8.34, 6.2, 6.42, 7.24, 4.92, 7.5, 5.88, 7.32, 6.3, 7.86, 6.74, 8.12, 6.48, 6.28, 6.82, 6.1, 6.72, 7.2, 7.82, 8.2, 6.78, 6.68, 7.38, 6.18, 6.26, 7.44, 4.86, 6.44, 7.04, 6.58, 5.98, 6.12, 7.64, 6.64, 4.74, 6.48, 7.62, 7.32, 8.02, 7.54, 6.3, 5.1, 6.64, 8.42, 8.42, 6.02, 8.04, 5.88, 6.88, 5.44, 6.24, 7.54, 6.76, 6.98, 6.12, 5.22, 6.12, 6.98, 6.82, 5.1, 8.1, 5.78, 6.74, 5.44, 6.42, 5.34, 5.92, 9.28, 6.52, 6.78, 8.26, 5.5, 6.16, 5.8, 6.74, 6.64, 6.3, 9.34, 7.36, 4.94, 6.4, 8.04, 6.78, 5.18, 5.26, 6.7, 5.94, 8.6, 4.4, 6.94, 6.22, 6.34, 6.84, 6.5, 7.54, 6.0, 8.0, 7.08, 8.66, 5.44, 5.84, 8.58, 6.26, 6.46, 6.78, 7.44, 5.84, 8.24, 6.72, 6.66, 6.62, 6.6, 5.64, 7.52, 4.5, 5.14, 6.3, 6.56, 7.26, 7.86, 7.84, 7.16, 6.66, 6.58, 6.68, 7.32, 6.52, 8.9, 6.8, 7.52, 7.0, 7.82, 5.8, 7.14, 6.82, 9.38, 6.96, 7.56, 8.58, 7.04, 6.7, 7.04, 6.72, 7.54, 7.44, 6.82, 7.4, 5.84, 7.4, 6.1, 6.68, 7.7, 6.98, 6.56, 7.42, 6.32, 7.64, 7.06, 6.76, 6.1, 8.4, 7.46, 5.3, 6.14, 7.78, 5.54, 5.6, 7.34, 7.54, 7.78, 7.16, 4.96, 6.12, 6.6, 6.06, 7.78, 4.7, 5.82, 5.76, 7.02, 7.64, 6.28, 8.58, 7.44, 5.06, 6.64, 6.48, 6.86, 6.38, 6.2, 6.84, 5.56, 6.28, 7.18, 8.1, 6.76, 7.1, 6.34, 7.58, 6.36, 9.18, 6.66, 7.52, 5.74, 8.78, 5.84, 7.88, 6.7, 8.18, 6.8, 7.18, 5.86, 6.38, 7.04, 7.98, 5.44, 5.58, 6.62, 6.26, 6.72, 6.04, 7.08, 6.24, 8.32, 6.78, 7.68, 7.04, 8.38, 6.54, 9.88, 6.02, 6.04, 6.3, 7.32, 7.1, 6.26, 8.68, 8.06, 6.7, 5.54, 6.06, 7.34, 6.3, 6.14, 5.54, 5.66, 7.62, 5.28, 5.56, 6.56, 7.44, 7.32, 5.64, 8.16, 5.62, 6.16, 6.74, 6.88, 7.62, 7.0, 8.04, 6.92, 5.04, 5.26, 7.26, 6.68, 4.3, 5.42, 7.32, 5.26, 7.02, 6.32, 5.34, 6.82, 9.1, 8.62, 4.6, 6.36, 8.06, 5.44, 6.9, 6.08, 6.32, 7.68, 7.26, 7.24, 5.4, 7.0, 5.24, 6.96, 5.82, 6.0, 5.28, 6.24, 5.84, 7.86, 6.36, 6.72, 7.3, 5.42, 6.82, 9.88, 6.16, 5.5, 5.68, 8.02, 6.82, 6.58, 6.56, 6.92, 6.86, 5.86, 5.6, 6.58, 6.82, 5.94, 6.9, 6.56, 5.62, 7.78, 5.18, 6.52, 6.64, 8.14, 6.28, 6.72, 6.1, 6.64, 5.36, 5.6, 6.52, 6.98, 7.8, 6.84, 6.14, 6.02, 5.28, 6.34, 5.42, 7.28, 5.98, 5.4, 5.9, 7.32, 5.14, 7.42, 5.18, 7.7, 6.92, 6.64, 7.96, 7.86, 6.76, 5.72, 6.94, 5.54, 9.32, 7.84, 5.76, 4.9, 6.78, 8.0, 6.62, 11.0, 7.18, 7.6, 5.06, 7.14, 5.74, 5.08, 5.72, 5.7, 7.02, 8.4, 4.9, 5.54, 9.08, 5.76, 6.96, 5.42, 6.46, 7.12, 5.88, 6.6, 6.54, 5.98, 6.56, 8.08, 4.96, 6.52, 6.36, 6.28, 6.58, 6.38, 7.16, 4.44, 7.56, 6.34, 5.2, 6.18, 5.38, 7.5, 8.16, 5.5, 9.24, 7.26, 7.94, 5.88, 5.08, 6.34, 6.14, 7.1, 6.36, 5.2, 8.2, 6.24, 7.18, 7.32, 6.16, 7.28, 7.32, 5.88, 7.88, 7.24, 7.92, 7.3, 6.08, 6.2, 6.2, 5.96, 6.86, 8.26, 6.36, 6.12, 7.02, 6.26, 8.1, 6.16, 8.42, 5.64, 5.76, 6.38, 5.62, 6.5, 6.54, 6.62, 4.98, 7.08, 5.98, 7.0, 7.16, 8.0, 7.08, 9.22, 8.18, 6.72, 6.32, 7.1, 6.08, 7.9, 4.96, 6.42, 7.92, 6.5, 6.32, 6.5, 6.8, 6.34, 6.46, 5.64, 6.62, 5.1, 9.18, 8.6, 6.82, 7.06, 6.68, 8.44, 6.6, 8.0, 4.6, 6.14, 7.36, 7.14, 7.78, 7.1, 6.48, 8.2, 7.94, 7.52, 5.94, 4.94, 6.6, 8.24, 4.96, 7.14, 7.28, 4.82, 6.22, 8.06, 6.78, 7.02, 6.8, 9.3, 6.56, 5.62, 7.0, 7.4, 5.98, 5.4, 6.48, 5.74, 6.28, 7.2, 7.22, 6.34, 6.38, 6.1, 7.42, 4.82, 6.32, 6.72, 8.56, 7.94, 5.72, 7.5, 7.5, 6.28, 7.34, 7.98, 7.44, 5.58, 6.92, 7.5, 5.32, 7.02, 6.58, 6.22, 5.92, 5.5, 6.38, 7.12, 5.06, 5.62, 6.98, 6.8, 7.58, 7.84, 6.76, 5.34, 7.3, 5.12, 5.0, 6.2, 6.82, 6.94, 7.56, 6.7, 6.68, 5.96, 6.9, 7.54, 5.5, 6.72, 5.08, 5.76, 5.98, 5.74, 6.72, 7.5, 5.08, 6.14, 6.12, 6.16, 6.68, 4.98, 6.2, 6.72, 6.66, 6.78, 7.16, 6.68, 6.38, 6.74, 6.8, 4.98, 5.46, 7.02, 5.22, 7.68, 8.14, 5.7, 6.78, 6.2, 6.42, 6.72, 5.44, 7.64, 8.48, 8.3, 6.84, 8.32, 6.46, 5.18, 6.66, 6.0, 5.02, 7.12, 6.7, 6.18, 7.1, 7.04, 6.38, 4.58, 6.3, 7.68, 6.34, 7.02, 6.28, 5.56, 7.88, 6.24, 6.98, 6.66, 7.1, 7.02, 5.12, 7.68, 6.94, 6.74, 6.68, 6.28, 8.22, 6.3, 6.1, 8.38, 7.04, 7.1, 7.9, 5.8, 7.32, 8.12, 8.64, 6.62, 7.66, 5.82, 5.5, 7.2, 8.22, 7.12, 4.7, 6.28, 4.68, 5.42, 5.48, 6.68, 6.5, 7.4, 8.3, 7.52, 4.66, 5.3, 7.3, 7.46, 8.42, 6.9, 5.72, 5.86, 7.2, 7.56, 8.14, 6.96, 6.42, 6.76, 6.1, 8.74, 7.8, 6.8, 7.52, 10.62, 6.92, 5.68, 8.32, 5.32, 5.68, 5.54, 6.5, 6.62, 6.38, 8.48, 7.7, 6.44, 5.3, 7.24, 7.42, 6.46, 6.7, 8.36, 4.96, 6.14, 6.14, 6.08, 6.82, 5.64, 7.66, 7.16, 8.7, 5.08, 7.76, 6.88, 5.84, 6.52, 6.38, 5.38, 6.04, 7.94, 5.5, 5.04, 6.64, 6.02, 7.88, 7.8, 6.42, 6.08, 6.38, 5.6, 5.38, 6.52, 5.6, 6.22, 5.74, 5.98, 7.8, 8.08, 6.4, 6.74, 5.66, 7.24, 9.02, 5.62, 6.44, 7.08, 7.9, 6.38, 6.6, 7.2, 6.06, 6.44, 5.24, 5.62, 7.7, 6.84, 5.46, 6.16, 6.0, 7.68, 4.9, 7.2, 7.74, 7.24, 8.7, 7.54, 5.36, 8.94, 7.86, 8.16, 7.34, 7.68, 5.38, 7.2, 5.48, 7.48, 5.54, 7.8, 6.78, 5.48, 5.36, 5.44, 7.14, 9.1, 6.24, 6.8, 5.04, 7.7, 7.98, 7.12, 5.9, 7.42, 8.54, 5.94, 5.88, 5.64, 5.76, 8.7, 8.22, 7.28, 7.44, 5.72, 6.76, 6.14, 7.22, 4.82, 6.32, 5.42, 6.0, 8.06, 6.5, 7.62, 6.26, 6.68, 6.08, 7.12, 7.16, 7.54, 6.32, 4.7, 7.82, 6.96, 6.82, 6.98, 5.92, 5.68, 5.44, 5.72, 7.38, 6.22, 6.08, 7.42, 6.38, 7.34, 5.74, 8.34, 7.08, 7.56, 7.34, 7.28, 6.0, 7.36, 4.64, 7.46, 7.26]\n"
     ]
    }
   ],
   "source": [
    "estimate_list = []\n",
    "for i in range(10000):\n",
    "    estimate_list.append(epa_data[\"aqi\"].sample(n=50, replace=True).mean())"
   ]
  },
  {
   "cell_type": "markdown",
   "metadata": {
    "id": "48893e11"
   },
   "source": [
    "<details>\n",
    "  <summary><h4><strong> Hint 1 </STRONG></h4></summary>\n",
    "\n",
    "Review [the content about sampling in Python](https://www.coursera.org/learn/the-power-of-statistics/lecture/SNOE0/sampling-distributions-with-python). \n",
    "\n",
    "</details>"
   ]
  },
  {
   "cell_type": "markdown",
   "metadata": {
    "id": "bbcc624a"
   },
   "source": [
    "### Create a new DataFrame\n",
    "\n",
    "Next, create a new DataFrame from the list of 10,000 estimates. Name the new variable `estimate_df`."
   ]
  },
  {
   "cell_type": "code",
   "execution_count": 16,
   "metadata": {
    "id": "59878c6b"
   },
   "outputs": [
    {
     "data": {
      "text/html": [
       "<div>\n",
       "<style scoped>\n",
       "    .dataframe tbody tr th:only-of-type {\n",
       "        vertical-align: middle;\n",
       "    }\n",
       "\n",
       "    .dataframe tbody tr th {\n",
       "        vertical-align: top;\n",
       "    }\n",
       "\n",
       "    .dataframe thead th {\n",
       "        text-align: right;\n",
       "    }\n",
       "</style>\n",
       "<table border=\"1\" class=\"dataframe\">\n",
       "  <thead>\n",
       "    <tr style=\"text-align: right;\">\n",
       "      <th></th>\n",
       "      <th>estimate</th>\n",
       "    </tr>\n",
       "  </thead>\n",
       "  <tbody>\n",
       "    <tr>\n",
       "      <th>0</th>\n",
       "      <td>6.72</td>\n",
       "    </tr>\n",
       "    <tr>\n",
       "      <th>1</th>\n",
       "      <td>5.70</td>\n",
       "    </tr>\n",
       "    <tr>\n",
       "      <th>2</th>\n",
       "      <td>7.40</td>\n",
       "    </tr>\n",
       "    <tr>\n",
       "      <th>3</th>\n",
       "      <td>6.88</td>\n",
       "    </tr>\n",
       "    <tr>\n",
       "      <th>4</th>\n",
       "      <td>4.98</td>\n",
       "    </tr>\n",
       "    <tr>\n",
       "      <th>...</th>\n",
       "      <td>...</td>\n",
       "    </tr>\n",
       "    <tr>\n",
       "      <th>9995</th>\n",
       "      <td>6.00</td>\n",
       "    </tr>\n",
       "    <tr>\n",
       "      <th>9996</th>\n",
       "      <td>7.36</td>\n",
       "    </tr>\n",
       "    <tr>\n",
       "      <th>9997</th>\n",
       "      <td>4.64</td>\n",
       "    </tr>\n",
       "    <tr>\n",
       "      <th>9998</th>\n",
       "      <td>7.46</td>\n",
       "    </tr>\n",
       "    <tr>\n",
       "      <th>9999</th>\n",
       "      <td>7.26</td>\n",
       "    </tr>\n",
       "  </tbody>\n",
       "</table>\n",
       "<p>10000 rows × 1 columns</p>\n",
       "</div>"
      ],
      "text/plain": [
       "      estimate\n",
       "0         6.72\n",
       "1         5.70\n",
       "2         7.40\n",
       "3         6.88\n",
       "4         4.98\n",
       "...        ...\n",
       "9995      6.00\n",
       "9996      7.36\n",
       "9997      4.64\n",
       "9998      7.46\n",
       "9999      7.26\n",
       "\n",
       "[10000 rows x 1 columns]"
      ]
     },
     "execution_count": 16,
     "metadata": {},
     "output_type": "execute_result"
    }
   ],
   "source": [
    "estimate_df = pd.DataFrame(data={\"estimate\": estimate_list})\n",
    "estimate_df"
   ]
  },
  {
   "cell_type": "markdown",
   "metadata": {
    "id": "df46898d"
   },
   "source": [
    "<details>\n",
    "  <summary><h4><strong> Hint 1 </STRONG></h4></summary>\n",
    "\n",
    "Review [the content about sampling in Python](https://www.coursera.org/learn/the-power-of-statistics/lecture/SNOE0/sampling-distributions-with-python). \n",
    "\n",
    "</details>"
   ]
  },
  {
   "cell_type": "markdown",
   "metadata": {
    "id": "2b5c894b"
   },
   "source": [
    "<details>\n",
    "<summary><h4><strong> Hint 2 </STRONG></h4></summary>\n",
    "\n",
    "Use the `mean()` function.\n",
    "\n",
    "</details>"
   ]
  },
  {
   "cell_type": "markdown",
   "metadata": {
    "id": "1a2d1b98"
   },
   "source": [
    "### Compute the mean() of the sampling distribution\n",
    "\n",
    "Next, compute the `mean()` of the sampling distribution of 10,000 random samples and store the result in a new variable `mean_sample_means`."
   ]
  },
  {
   "cell_type": "code",
   "execution_count": 18,
   "metadata": {
    "id": "c21cce9c"
   },
   "outputs": [
    {
     "name": "stdout",
     "output_type": "stream",
     "text": [
      "6.741936000000019\n"
     ]
    }
   ],
   "source": [
    "mean_sample_means = estimate_df[\"estimate\"].mean()\n",
    "print(mean_sample_means)"
   ]
  },
  {
   "cell_type": "markdown",
   "metadata": {
    "id": "f6e0d3ef"
   },
   "source": [
    "<details>\n",
    "  <summary><h4><strong> Hint 1 </STRONG></h4></summary>\n",
    "\n",
    "Use the function in the `pandas` library that allows you to generate a mean value for a column in a DataFrame.\n",
    "\n",
    "</details>"
   ]
  },
  {
   "cell_type": "markdown",
   "metadata": {
    "id": "95208c41"
   },
   "source": [
    "<details>\n",
    "  <summary><h4><strong> Hint 2 </STRONG></h4></summary>\n",
    "\n",
    "Use the `mean()` function.\n",
    "\n",
    "</details>"
   ]
  },
  {
   "cell_type": "markdown",
   "metadata": {
    "id": "8a5939d9"
   },
   "source": [
    "**Question:** What is the mean for the sampling distribution of 10,000 random samples?"
   ]
  },
  {
   "cell_type": "markdown",
   "metadata": {
    "id": "hpyqcQ93XeEU"
   },
   "source": [
    "This will vary as random_state argument was not set. On this run, it is ~6.742."
   ]
  },
  {
   "cell_type": "markdown",
   "metadata": {
    "id": "aydqn3YmSGHi"
   },
   "source": [
    "<details>\n",
    "  <summary><h4><strong> Hint 3 </STRONG></h4></summary>\n",
    "\n",
    "This value is contained in `mean_sample_means`.\n",
    "\n",
    "</details>"
   ]
  },
  {
   "cell_type": "markdown",
   "metadata": {
    "id": "79095582"
   },
   "source": [
    "<details>\n",
    "  <summary><h4><strong> Hint 4 </STRONG></h4></summary>\n",
    "\n",
    "According to the central limit theorem, the mean of the preceding sampling distribution should be roughly equal to the population mean. \n",
    "\n",
    "</details>"
   ]
  },
  {
   "cell_type": "markdown",
   "metadata": {
    "id": "4c8ab4ca"
   },
   "source": [
    "**Question:** How are the central limit theorem and random sampling (with replacement) related?"
   ]
  },
  {
   "cell_type": "markdown",
   "metadata": {
    "id": "yk68WKLcXiJn"
   },
   "source": [
    "\n",
    "Random sampling with replacement is related to the central limit theorem because it involves independently selecting observations from a population. According to the central limit theorem, when the sample size is sufficiently large and the observations are drawn independently—or with replacement—the sampling distribution of the sample mean will approximate a normal distribution. Additionally, the mean of this distribution corresponds to the population mean, while the variance is represented by the standard error."
   ]
  },
  {
   "cell_type": "markdown",
   "metadata": {
    "id": "ff41cd55"
   },
   "source": [
    "### Output the distribution using a histogram\n",
    "\n",
    "Output the distribution of these estimates using a histogram. This provides an idea of the sampling distribution."
   ]
  },
  {
   "cell_type": "code",
   "execution_count": 20,
   "metadata": {
    "id": "e0e6aedd"
   },
   "outputs": [
    {
     "data": {
      "image/png": "[encoded data removed]",
      "text/plain": [
       "<Figure size 432x288 with 1 Axes>"
      ]
     },
     "metadata": {
      "needs_background": "light"
     },
     "output_type": "display_data"
    }
   ],
   "source": [
    "estimate_df[\"estimate\"].hist();"
   ]
  },
  {
   "cell_type": "markdown",
   "metadata": {
    "id": "e8447517"
   },
   "source": [
    "<details>\n",
    "  <summary><h4><strong> Hint 1 </STRONG></h4></summary>\n",
    "\n",
    "Use the `hist()` function. \n",
    "\n",
    "</details>"
   ]
  },
  {
   "cell_type": "markdown",
   "metadata": {
    "id": "c740a062"
   },
   "source": [
    "### Calculate the standard error\n",
    "\n",
    "Calculate the standard error of the mean AQI using the initial sample of 50. The **standard error** of a statistic measures the sample-to-sample variability of the sample statistic. It provides a numerical measure of sampling variability and answers the question: How far is a statistic based on one particular sample from the actual value of the statistic?"
   ]
  },
  {
   "cell_type": "code",
   "execution_count": 21,
   "metadata": {
    "id": "74e6b4e9"
   },
   "outputs": [
    {
     "name": "stdout",
     "output_type": "stream",
     "text": [
      "0.7413225908290327\n"
     ]
    }
   ],
   "source": [
    "std_error = sampled_data[\"aqi\"].std() / np.sqrt(len(sampled_data))\n",
    "print(std_error)"
   ]
  },
  {
   "cell_type": "markdown",
   "metadata": {
    "id": "2879de5e"
   },
   "source": [
    "<details>\n",
    "  <summary><h4><strong> Hint 1 </STRONG></h4></summary>\n",
    "\n",
    "Use the `std()` function and the `np.sqrt()` function.\n",
    "\n",
    "</details>"
   ]
  },
  {
   "cell_type": "markdown",
   "metadata": {
    "id": "2c748417"
   },
   "source": [
    "## Step 4: Results and evaluation"
   ]
  },
  {
   "cell_type": "markdown",
   "metadata": {
    "id": "06fae653"
   },
   "source": [
    "###  Visualize the relationship between the sampling and normal distributions\n",
    "\n",
    "Visualize the relationship between your sampling distribution of 10,000 estimates and the normal distribution.\n",
    "\n",
    "1. Plot a histogram of the 10,000 sample means \n",
    "2. Add a vertical line indicating the mean of the first single sample of 50\n",
    "3. Add another vertical line indicating the mean of the means of the 10,000 samples \n",
    "4. Add a third vertical line indicating the mean of the actual population"
   ]
  },
  {
   "cell_type": "code",
   "execution_count": 24,
   "metadata": {
    "id": "55b5b482"
   },
   "outputs": [
    {
     "data": {
      "image/png": "[encoded data removed]",
      "text/plain": [
       "<Figure size 576x360 with 1 Axes>"
      ]
     },
     "metadata": {
      "needs_background": "light"
     },
     "output_type": "display_data"
    }
   ],
   "source": [
    "plt.figure(figsize=(8,5))\n",
    "plt.hist(estimate_df['estimate'], bins=25, density=True, alpha=0.4, label = \"histogram of sample means of 10,000 random samples\")\n",
    "xmin, xmax = plt.xlim()\n",
    "x = np.linspace(xmin, xmax, 100) # generate a grid of 100 values from xmin to xmax.\n",
    "p = stats.norm.pdf(x, population_mean, std_error)\n",
    "plt.plot(x, p, 'k', linewidth=2, label = 'normal curve from central limit theorem')\n",
    "plt.axvline(x=population_mean, color='m', linestyle = 'solid', label = 'population mean')\n",
    "plt.axvline(x=sample_mean, color='r', linestyle = '--', label = 'sample mean of the first random sample')\n",
    "plt.axvline(x=mean_sample_means, color='b', linestyle = ':', label = 'mean of sample means of 10000 random samples')\n",
    "plt.title(\"Sampling distribution of sample mean\")\n",
    "plt.xlabel('sample mean')\n",
    "plt.ylabel('density')\n",
    "plt.legend(bbox_to_anchor=(1.04,1));"
   ]
  },
  {
   "cell_type": "markdown",
   "metadata": {
    "id": "9abab6d5"
   },
   "source": [
    "**Question:** What insights did you gain from the preceding sampling distribution?"
   ]
  },
  {
   "cell_type": "markdown",
   "metadata": {
    "id": "6TWq1w2KXtN3"
   },
   "source": [
    "The histogram of the sampling distribution closely resembles the normal distribution predicted by the central limit theorem. The estimate from a single sample (shown by the red dashed line) is slightly off-center, which is normal due to sampling variability. If a different value for random_state had been used in epa_data.sample(n=50, replace=True, random_state=42), the red dashed line would likely be in a different position. The overlap of the population mean (green solid line) and the mean of the sample means (blue dotted line) indicates that they are effectively identical."
   ]
  },
  {
   "cell_type": "markdown",
   "metadata": {
    "id": "c77e7f0f-d2b9-4464-8a7c-9575d1e1ef9f"
   },
   "source": [
    "# Considerations\n",
    "\n",
    "**What are some key takeaways that you learned from this lab?**\n",
    "\n",
    "**Answer:** Sampling with replacement on a dataset can result in duplicate rows. Due to sampling variability, sample means may differ from the population mean. The central limit theorem provides a way to describe the sampling distribution of the sample mean across various types of datasets.\n",
    "\n",
    "\n",
    "**What findings would you share with others?**\n",
    "\n",
    "**Answer**: In a sample of 50 observations, the mean AQI was found to be statistically significantly below 100 (at least 2–3 standard errors lower). Since AQI values of 100 or below are generally considered satisfactory, this result is notable. However, this analysis did not explore AQI values outside of the \"satisfactory\" range, so further investigation is needed to examine unhealthy AQI levels.\n",
    "\n",
    "**What would you convey to external stakeholders?**\n",
    "\n",
    "**Answer**: Overall, carbon monoxide levels are generally satisfactory. However, funding should be directed towards further investigation of regions with unhealthy carbon monoxide levels to better understand the issues and work towards improving conditions in those areas.\n"
   ]
  },
  {
   "cell_type": "markdown",
   "metadata": {},
   "source": [
    "**Congratulations!** You've completed this lab. However, you may not notice a green check mark next to this item on Coursera's platform. Please continue your progress regardless of the check mark. Just click on the \"save\" icon at the top of this notebook to ensure your work has been logged."
   ]
  }
 ],
 "metadata": {
  "colab": {
   "collapsed_sections": [],
   "provenance": []
  },
  "kernelspec": {
   "display_name": "Python 3",
   "language": "python",
   "name": "python3"
  },
  "language_info": {
   "codemirror_mode": {
    "name": "ipython",
    "version": 3
   },
   "file_extension": ".py",
   "mimetype": "text/x-python",
   "name": "python",
   "nbconvert_exporter": "python",
   "pygments_lexer": "ipython3",
   "version": "3.7.6"
  },
  "toc-autonumbering": false,
  "toc-showtags": false
 },
 "nbformat": 4,
 "nbformat_minor": 5
}
